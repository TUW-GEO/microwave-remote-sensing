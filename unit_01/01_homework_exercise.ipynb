{
 "cells": [
  {
   "cell_type": "markdown",
   "id": "0",
   "metadata": {},
   "source": [
    "# Homework Exercise 1: Discover Sentinel 1 data using the EODC STAC catalog"
   ]
  },
  {
   "cell_type": "markdown",
   "id": "1",
   "metadata": {},
   "source": [
    "In the previous notebook, you have learnt how to access Sentinel-1 data from EODC using the STAC API. Your task now is to find and plot a Sentinel-1 acquisition of your latest holiday destination. To successfully finish the exercise, you need to perform the following tasks:\n",
    "\n",
    "- [ ] Get the 'SENTINEL1_SIG0_20M' collection\n",
    "- [ ] Define a spatial and temporal extent\n",
    "- [ ] Perform the STAC request and select one of the resulting items\n",
    "- [ ] Check the metadata to find the relative orbit number of the item\n",
    "- [ ] Read and decode the items\n",
    "- [ ] Plot one of the items\n",
    "\n",
    "To help you to get started, we already imported all required packages and provided some code blocks. Your task is now to fill in the missing code cells indicated with # YOUR CODE HERE."
   ]
  },
  {
   "cell_type": "code",
   "execution_count": null,
   "id": "2",
   "metadata": {},
   "outputs": [],
   "source": [
    "import pystac_client\n",
    "from odc import stac as odc_stac"
   ]
  },
  {
   "cell_type": "markdown",
   "id": "3",
   "metadata": {},
   "source": [
    "## List all collection names and select one"
   ]
  },
  {
   "cell_type": "code",
   "execution_count": null,
   "id": "4",
   "metadata": {},
   "outputs": [],
   "source": [
    "#| eval: false\n",
    "\n",
    "eodc_catalog = pystac_client.Client.open(\"https://stac.eodc.eu/api/v1\")\n",
    "\n",
    "colllection_id = ...  # YOUR CODE HERE\n",
    "\n",
    "collection = eodc_catalog.get_collection(colllection_id)\n",
    "collection"
   ]
  },
  {
   "cell_type": "markdown",
   "id": "5",
   "metadata": {},
   "source": [
    "## Define spatial and temporal extent and use client to load the metadata"
   ]
  },
  {
   "cell_type": "code",
   "execution_count": null,
   "id": "6",
   "metadata": {},
   "outputs": [],
   "source": [
    "#| eval: false\n",
    "\n",
    "# Define the area of interest by providing coordinates that cover your latest\n",
    "# holiday destination (can be a city, state, country, etc.)\n",
    "latmin, latmax = ...  # YOUR CODE HERE\n",
    "lonmin, lonmax = ...  # YOUR CODE HERE\n",
    "bounds = (lonmin, latmin, lonmax, latmax)\n",
    "\n",
    "# Define the time range. This can either be the data of your actual holiday or\n",
    "# any other time range between 2016 and 2023\n",
    "time_range = ...  # YOUR CODE HERE\n",
    "\n",
    "items = ...  # YOUR CODE HERE\n",
    "\n",
    "print(len(items), \"scenes found.\")"
   ]
  },
  {
   "cell_type": "markdown",
   "id": "7",
   "metadata": {},
   "source": [
    "## Find necessary metadata, like bands, resolution, coordinate reference system"
   ]
  },
  {
   "cell_type": "code",
   "execution_count": null,
   "id": "8",
   "metadata": {},
   "outputs": [],
   "source": [
    "#| eval: false\n",
    "\n",
    "# Pick one item from items using indexing get the relative orbit from the item\n",
    "# properties\n",
    "relative_orbit = ...  # YOUR CODE HERE\n",
    "print(f\"The relative orbit number of the item is {relative_orbit}\")"
   ]
  },
  {
   "cell_type": "markdown",
   "id": "9",
   "metadata": {},
   "source": [
    "## Lazily load the data into an Xarray\n",
    "\n",
    "**Take care that your dataset is not to big by limiting the bounds and time range!**"
   ]
  },
  {
   "cell_type": "code",
   "execution_count": null,
   "id": "10",
   "metadata": {},
   "outputs": [],
   "source": [
    "#| eval: false\n",
    "\n",
    "bands = ...  # YOUR CODE HERE\n",
    "chunks = {\"time\": 1, \"x\": 1000, \"y\": 1000}\n",
    "\n",
    "sig0_dc = odc_stac.load(\n",
    "    items,\n",
    "    bands=bands,\n",
    "    bbox=bounds,\n",
    "    chunks=chunks,\n",
    ")"
   ]
  },
  {
   "cell_type": "markdown",
   "id": "11",
   "metadata": {},
   "source": [
    "## Define the nodata value and scale factor and decode the data"
   ]
  },
  {
   "cell_type": "code",
   "execution_count": null,
   "id": "12",
   "metadata": {},
   "outputs": [],
   "source": [
    "#| eval: false\n",
    "\n",
    "nodata = ...  # YOUR CODE HERE\n",
    "scale = ...  # YOUR CODE HERE\n",
    "\n",
    "sig0_dc = ...  # YOUR CODE HERE"
   ]
  },
  {
   "cell_type": "markdown",
   "id": "13",
   "metadata": {},
   "source": [
    "## Plot the loaded data"
   ]
  },
  {
   "cell_type": "code",
   "execution_count": null,
   "id": "14",
   "metadata": {},
   "outputs": [],
   "source": [
    "#| eval: false\n",
    "\n",
    "...  # YOUR CODE HERE"
   ]
  }
 ],
 "metadata": {
  "kernelspec": {
   "display_name": "microwave-remote-sensing",
   "language": "python",
   "name": "microwave-remote-sensing"
  },
  "language_info": {
   "codemirror_mode": {
    "name": "ipython",
    "version": 3
   },
   "file_extension": ".py",
   "mimetype": "text/x-python",
   "name": "python",
   "nbconvert_exporter": "python",
   "pygments_lexer": "ipython3",
   "version": "3.13.9"
  }
 },
 "nbformat": 4,
 "nbformat_minor": 5
}
