{
 "cells": [
  {
   "cell_type": "markdown",
   "id": "0",
   "metadata": {},
   "source": [
    "# Homework Exercise 3: Backscattering Coefficients\n",
    "\n",
    "To successfully finish this notebook, you have to answer/solve the following three questions."
   ]
  },
  {
   "cell_type": "code",
   "execution_count": null,
   "id": "1",
   "metadata": {},
   "outputs": [],
   "source": [
    "import xarray as xr\n",
    "\n",
    "import matplotlib.pyplot as plt  # noqa\n",
    "import hvplot.xarray  # noqa\n",
    "import intake\n",
    "\n",
    "from pathlib import Path\n",
    "from functools import partial\n",
    "from mrs.catalog import get_intake_url"
   ]
  },
  {
   "cell_type": "code",
   "execution_count": null,
   "id": "2",
   "metadata": {
    "editable": true,
    "slideshow": {
     "slide_type": ""
    },
    "tags": []
   },
   "outputs": [],
   "source": [
    "url = get_intake_url()\n",
    "cat = intake.open_catalog(url)\n",
    "ex3_dc = cat[\"ex3\"].read().compute()\n",
    "ex3_dc"
   ]
  },
  {
   "cell_type": "markdown",
   "id": "3",
   "metadata": {},
   "source": [
    "## Question 1"
   ]
  },
  {
   "cell_type": "markdown",
   "id": "4",
   "metadata": {},
   "source": [
    "Execute the lines below to create the plot. You now see a SAR image with unknown processing level. Based on what you see, which pre-processing steps have been applied to the image?\n",
    "\n",
    "- [ ] Cloud masking\n",
    "- [ ] Geometric terrain correction\n",
    "- [ ] Conversion to dB\n",
    "- [ ] Radiometric terrain correction (terrain flattening)\n",
    "\n",
    "\n",
    "Select the answers you think are correct by editing the markdown text and putting an 'x' in the brackets. Note: One, several, or all answers are possible. "
   ]
  },
  {
   "cell_type": "code",
   "execution_count": null,
   "id": "5",
   "metadata": {},
   "outputs": [],
   "source": [
    "ex3_dc.hvplot.image(\n",
    "    x=\"x\",\n",
    "    y=\"y\",\n",
    "    robust=True,\n",
    "    data_aspect=1,\n",
    "    cmap=\"Greys_r\",\n",
    "    groupby=\"band\",\n",
    "    rasterize=True,\n",
    ").opts(frame_height=600, framewise=False, aspect=\"equal\")"
   ]
  },
  {
   "cell_type": "markdown",
   "id": "6",
   "metadata": {},
   "source": [
    "## Question 2\n",
    "\n",
    "Name all types of geometric image distortions in a SAR image. How are they caused, and how can we get rid of them?\n",
    "\n",
    "`Your answer here`"
   ]
  },
  {
   "cell_type": "markdown",
   "id": "7",
   "metadata": {},
   "source": [
    "## Question 3\n",
    "\n",
    "Use the figure below question 1 to identify areas that are affected by foreshortening and radar shadows. Use the mouseover to retrieve their x/y coordinates. Then use these coordinates to annotate the following `matplotlib` figure with labels by putting them in the lines indicated with # Your coordinates here. "
   ]
  },
  {
   "cell_type": "code",
   "execution_count": null,
   "id": "8",
   "metadata": {},
   "outputs": [],
   "source": [
    "#| eval: false\n",
    "\n",
    "zoom = ex3_dc.sel(x=slice(11.25, 11.5), y=slice(47.75, 47.5)).band_data\n",
    "fig, ax = plt.subplots(figsize=(10, 8))\n",
    "\n",
    "bbox = dict(boxstyle=\"round\", fc=\"0.8\")\n",
    "\n",
    "ax.annotate(\n",
    "    \"foreshortening\",\n",
    "    xy=(..., ...),  # Your foreshortening coordinates here\n",
    "    xytext=(0.3, 0.25),\n",
    "    textcoords=\"subfigure fraction\",\n",
    "    bbox=bbox,\n",
    "    arrowprops=dict(facecolor=\"white\", shrink=0.05),\n",
    ")\n",
    "ax.annotate(\n",
    "    \"shadows\",\n",
    "    xy=(..., ...),  # Your radar shadow coordinates here\n",
    "    xytext=(0.47, 0.8),\n",
    "    textcoords=\"subfigure fraction\",\n",
    "    bbox=bbox,\n",
    "    arrowprops=dict(facecolor=\"white\", shrink=0.05),\n",
    ")\n",
    "\n",
    "zoom.sel(band=\"unknown1\").plot(robust=True, cmap=\"Greys_r\")"
   ]
  }
 ],
 "metadata": {
  "kernelspec": {
   "display_name": "microwave-remote-sensing",
   "language": "python",
   "name": "microwave-remote-sensing"
  },
  "language_info": {
   "codemirror_mode": {
    "name": "ipython",
    "version": 3
   },
   "file_extension": ".py",
   "mimetype": "text/x-python",
   "name": "python",
   "nbconvert_exporter": "python",
   "pygments_lexer": "ipython3",
   "version": "3.13.9"
  }
 },
 "nbformat": 4,
 "nbformat_minor": 5
}
