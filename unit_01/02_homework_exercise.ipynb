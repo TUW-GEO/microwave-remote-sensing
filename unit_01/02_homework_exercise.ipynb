{
 "cells": [
  {
   "cell_type": "markdown",
   "id": "0",
   "metadata": {},
   "source": [
    "# Homework Exercise 2: Unit conversion"
   ]
  },
  {
   "cell_type": "markdown",
   "id": "1",
   "metadata": {},
   "source": [
    "Your task in this notebook is to load some data from `EODC` and create weekly mosaics across the whole year (the area can be relatively small), plot one of the weekly mosaics, and save it to a file. To successfully finish the exercise, you need to perform the following tasks:\n",
    "\n",
    "- [ ] Load the data\n",
    "- [ ] Create weekly mosaics\n",
    "- [ ] Plot one of the weekly mosaics\n",
    "- [ ] Save it as a GeoTIFF\n",
    "\n",
    "As a reminder, backscatter data is typically provided in 'dB', so make sure to perform the mean calculation for the weekly mosaics in the correct domain.\n",
    "\n",
    "## Load the data"
   ]
  },
  {
   "cell_type": "code",
   "execution_count": null,
   "id": "2",
   "metadata": {},
   "outputs": [],
   "source": [
    "import pystac_client\n",
    "import odc.stac\n",
    "from rasterio.crs import CRS\n",
    "import rioxarray  # noqa"
   ]
  },
  {
   "cell_type": "code",
   "execution_count": null,
   "id": "3",
   "metadata": {},
   "outputs": [],
   "source": [
    "#| eval: false\n",
    "\n",
    "# Search for some data\n",
    "crs = CRS.from_epsg(27704)  # WGS 84\n",
    "\n",
    "# Set Spatial extent\n",
    "latmin, latmax = (\n",
    "    ...,\n",
    "    ...,\n",
    ")\n",
    "# YOUR CODE HERE, you can choose any location that you like e.g. a city in\n",
    "# Austria\n",
    "lonmin, lonmax = ..., ...  # YOUR CODE HERE\n",
    "bounds = (lonmin, latmin, lonmax, latmax)\n",
    "\n",
    "# Set Temporal extent\n",
    "time_range = ...  # YOUR CODE HERE\n",
    "\n",
    "# Search for Sentinel-1 data\n",
    "items = (\n",
    "    pystac_client.Client.open(\"https://stac.eodc.eu/api/v1\")\n",
    "    .search(\n",
    "        bbox=bounds,\n",
    "        collections=[\"SENTINEL1_SIG0_20M\"],\n",
    "        datetime=time_range,\n",
    "        limit=100,\n",
    "    )\n",
    "    .item_collection()\n",
    ")\n",
    "\n",
    "print(len(items), \"scenes found\")"
   ]
  },
  {
   "cell_type": "code",
   "execution_count": null,
   "id": "4",
   "metadata": {},
   "outputs": [],
   "source": [
    "#| eval: false\n",
    "\n",
    "# Load the data and lazily combine items\n",
    "sig0_dc = odc.stac.stac_load(\n",
    "    items,\n",
    "    bbox=bounds,\n",
    "    bands=[\"VV\"],\n",
    "    chunks={\"time\": 1, \"x\": 1000, \"y\": 1000},\n",
    ")"
   ]
  },
  {
   "cell_type": "markdown",
   "id": "5",
   "metadata": {},
   "source": [
    "## Preprocess the Data"
   ]
  },
  {
   "cell_type": "code",
   "execution_count": null,
   "id": "6",
   "metadata": {},
   "outputs": [],
   "source": [
    "#| eval: false\n",
    "\n",
    "# Define the nodata value and scale factor\n",
    "nodata = -9999  # Sentinel-1 nodata value as defined by EODC\n",
    "scale = 10  # Sentinel-1 scale factor as defined by EODC\n",
    "\n",
    "# Preprocess the data\n",
    "sig0 = ...  # YOUR CODE HERE"
   ]
  },
  {
   "cell_type": "markdown",
   "id": "7",
   "metadata": {},
   "source": [
    "## Create Weekly Mosaics"
   ]
  },
  {
   "cell_type": "code",
   "execution_count": null,
   "id": "8",
   "metadata": {},
   "outputs": [],
   "source": [
    "#| eval: false\n",
    "\n",
    "sig0_weekly = ...  # YOUR CODE HERE"
   ]
  },
  {
   "cell_type": "markdown",
   "id": "9",
   "metadata": {},
   "source": [
    "## Plot one of the Weekly Mosaics"
   ]
  },
  {
   "cell_type": "code",
   "execution_count": null,
   "id": "10",
   "metadata": {},
   "outputs": [],
   "source": [
    "# YOUR CODE HERE"
   ]
  },
  {
   "cell_type": "markdown",
   "id": "11",
   "metadata": {},
   "source": [
    "## Save one of the Weekly Mosaics as Tif"
   ]
  },
  {
   "cell_type": "code",
   "execution_count": null,
   "id": "12",
   "metadata": {},
   "outputs": [],
   "source": [
    "# YOUR CODE HERE"
   ]
  }
 ],
 "metadata": {
  "kernelspec": {
   "display_name": "microwave-remote-sensing",
   "language": "python",
   "name": "microwave-remote-sensing"
  },
  "language_info": {
   "codemirror_mode": {
    "name": "ipython",
    "version": 3
   },
   "file_extension": ".py",
   "mimetype": "text/x-python",
   "name": "python",
   "nbconvert_exporter": "python",
   "pygments_lexer": "ipython3",
   "version": "3.13.9"
  }
 },
 "nbformat": 4,
 "nbformat_minor": 5
}
