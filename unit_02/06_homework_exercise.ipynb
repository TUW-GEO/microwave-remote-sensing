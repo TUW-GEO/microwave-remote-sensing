{
 "cells": [
  {
   "cell_type": "markdown",
   "id": "0",
   "metadata": {},
   "source": [
    "# Homework Exercise 6: Dielectric Properties of Natural Media\n",
    "\n",
    "## RGB Composite\n",
    "\n",
    "Not only radar reflectivity vary according to different land cover classes. The backscattered signal also depends on the change of the imagined natural media over time. We may want to capture in one single image how different land covers comparably change across the same time range. A way to do achieve that is by generating a RGB composite. But what is a RGB composite? It all comes down to combining three image bands into one picture by setting each band as either Red, Green or Blue channel.\n",
    "\n",
    "In order to highlight the temporal variability of the backscatter response, we want to select 3 images with maximal distance in time. Therefore we take the first, the middle and the last time available out of the input images available for this exercise. We use RGB coloring where we want to color the first image with Red, the second with Green and the Third with Blue color. When we overlay the images the color will show the differences over time."
   ]
  },
  {
   "cell_type": "code",
   "execution_count": null,
   "id": "1",
   "metadata": {},
   "outputs": [],
   "source": [
    "import intake\n",
    "import numpy as np  # noqa\n",
    "import pandas as pd\n",
    "import xarray as xr\n",
    "import rasterio\n",
    "from pathlib import Path\n",
    "import matplotlib.pyplot as plt\n",
    "from functools import partial\n",
    "from shapely.geometry import box\n",
    "\n",
    "from mrs.catalog import CorineColorCollection, get_intake_url"
   ]
  },
  {
   "cell_type": "markdown",
   "id": "2",
   "metadata": {},
   "source": [
    "## Load Sentinel-1 Data"
   ]
  },
  {
   "cell_type": "code",
   "execution_count": null,
   "id": "3",
   "metadata": {},
   "outputs": [],
   "source": [
    "url = get_intake_url()\n",
    "cat = intake.open_catalog(url)\n",
    "sig0_da = cat.neusiedler.read().sig0.compute()"
   ]
  },
  {
   "cell_type": "markdown",
   "id": "4",
   "metadata": {},
   "source": [
    "## Select the Dates of Interest\n",
    "\n",
    "To create an RGB composite, we need to choose three distinct dates. It's recommended to select dates that are spaced out to capture noticeable changes over time (e.g., first available date, second date as the middle date of the datacube time window, third date as the last availavable date). Pay attention to the season as well, as vegetation and other environmental factors often change significantly throughout the year.\n",
    "\n",
    "Here the `sel` method with nearest neighbor (`method=\"nearest\"`) interpolation is used to choose the dates closest to the ones we specify."
   ]
  },
  {
   "cell_type": "code",
   "execution_count": null,
   "id": "5",
   "metadata": {},
   "outputs": [],
   "source": [
    "#| eval: false\n",
    "\n",
    "# YOUR CODE HERE ----------------------------------------------------------\n",
    "first = ...  # YOUR CODE HERE\n",
    "second = ...  # YOUR CODE HERE\n",
    "third = ...  # YOUR CODE HERE\n",
    "# YOUR CODE HERE ----------------------------------------------------------\n",
    "\n",
    "sig0_rgb_da = sig0_da.sel(time=[first, second, third], method=\"nearest\").\\\n",
    "    compute()\n",
    "sig0_rgb_da"
   ]
  },
  {
   "cell_type": "markdown",
   "id": "6",
   "metadata": {},
   "source": [
    "### Map the backscatter to RGB values\n",
    "\n",
    "To visualize backscatter data in RGB, we need to transform the data into values between 0 and 1 to match it to colors. The first step is to convert the backscattering values into linear scale so we can perform meaningful calculations. Now we can normalise the values to be between 0 and 1 using the following formula:\n",
    "$$ \n",
    "sig0_{norm} = \\frac{sig0 - sig0_{min}}{sig0_{98th} - sig0_{min}}\n",
    "$$\n",
    "We replaced the traditional maximum value with the 98th quantile in our normalization process to enhance robustness against outliers. Due to the nature of backscattering some sigma nought values get very high so taking the 98th quantile is important. The linear backscattering values are bounded by 0 so using for example the 2nd quantile is not necessary. After applying the formula, any values exceeding the 98th quantile will be greater than 1. We map these values to 1 to ensure they fit within our specified range.\""
   ]
  },
  {
   "cell_type": "code",
   "execution_count": null,
   "id": "7",
   "metadata": {},
   "outputs": [],
   "source": [
    "#| eval: false\n",
    "\n",
    "linear_ds = 10 ** (sig0_rgb_da / 10)\n",
    "\n",
    "min_value = linear_ds.quantile(0.02).item()\n",
    "max_robust = linear_ds.quantile(0.98).item()\n",
    "\n",
    "\n",
    "def normalize(val, min, max):\n",
    "    \"\"\"\n",
    "    Min-max normalize value\n",
    "\n",
    "    Parameters\n",
    "    ----------\n",
    "    val: float\n",
    "        target\n",
    "    min: float\n",
    "        minimum value of range\n",
    "    max: float\n",
    "        maximum value of range\n",
    "    Returns\n",
    "    -------\n",
    "    float\n",
    "    \"\"\"\n",
    "\n",
    "    return (val - min) / (max - min)\n",
    "\n",
    "\n",
    "normalized_ds = normalize(linear_ds, min_value, max_robust).clip(min=0, max=1)\n",
    "\n",
    "fig, ax = plt.subplots(figsize=(8, 5))\n",
    "normalized_ds.isel(time=0).plot().axes.set_aspect(\"equal\")\n",
    "plt.tight_layout()"
   ]
  },
  {
   "cell_type": "markdown",
   "id": "8",
   "metadata": {},
   "source": [
    "## Individual RGB Channels \n",
    "\n",
    "Let´s first plot the three normalized images separately (Red = Oldest image, Green = Middle image, Blue = Newest image)."
   ]
  },
  {
   "cell_type": "code",
   "execution_count": null,
   "id": "9",
   "metadata": {},
   "outputs": [],
   "source": [
    "#| eval: false\n",
    "\n",
    "fig, axes = plt.subplots(1, 3, figsize=(15, 5))\n",
    "\n",
    "normalized_ds.isel(time=0).plot(ax=axes[0], cmap=\"Reds\")\n",
    "normalized_ds.isel(time=1).plot(ax=axes[1], cmap=\"Greens\")\n",
    "normalized_ds.isel(time=2).plot(ax=axes[2], cmap=\"Blues\")\n",
    "\n",
    "axes[0].set_aspect(\"equal\")\n",
    "axes[1].set_aspect(\"equal\")\n",
    "axes[2].set_aspect(\"equal\")\n",
    "\n",
    "plt.tight_layout()"
   ]
  },
  {
   "cell_type": "markdown",
   "id": "10",
   "metadata": {},
   "source": [
    "## Plotting the RGB Composite\n",
    "\n",
    "And finally, let´s plot the RGB composite."
   ]
  },
  {
   "cell_type": "code",
   "execution_count": null,
   "id": "11",
   "metadata": {},
   "outputs": [],
   "source": [
    "#| eval: false\n",
    "\n",
    "fig, ax = plt.subplots(figsize=(8, 5))\n",
    "\n",
    "normalized_ds.plot.imshow()\n",
    "ax.set_aspect('equal')\n",
    "\n",
    "plt.tight_layout()"
   ]
  },
  {
   "cell_type": "markdown",
   "id": "12",
   "metadata": {},
   "source": [
    "## Question\n",
    "\n",
    "What can you infer about the landscape features (focus on the crops appearance, forested areas, water bodies, urban areas) based on the variations in color across the image? Describe how you might interpret the colors in terms of changes over time, surface properties, and dielectric properties of the natural and artificial media. \n",
    "Focus on the crops: keeping in mind the polarization of the visualized backscatter data (i.e., VV) and its sensitivity to smoother surfaces (which indicates lack of vegetation), what does the blue color represent?"
   ]
  }
 ],
 "metadata": {
  "kernelspec": {
   "display_name": "microwave-remote-sensing",
   "language": "python",
   "name": "microwave-remote-sensing"
  },
  "language_info": {
   "codemirror_mode": {
    "name": "ipython",
    "version": 3
   },
   "file_extension": ".py",
   "mimetype": "text/x-python",
   "name": "python",
   "nbconvert_exporter": "python",
   "pygments_lexer": "ipython3",
   "version": "3.13.9"
  }
 },
 "nbformat": 4,
 "nbformat_minor": 5
}
