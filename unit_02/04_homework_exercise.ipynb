{
 "cells": [
  {
   "cell_type": "markdown",
   "id": "0",
   "metadata": {},
   "source": [
    "# Homework Exercise 4: Datacubes\n",
    "\n",
    "For the homework assignement we will continue work on the same data as in the in-class exercise. Hence we will load the same data which has been stored as a Zarr datastore. Zarr is efficient for storing chunked data and much faster for reading."
   ]
  },
  {
   "cell_type": "code",
   "execution_count": null,
   "id": "1",
   "metadata": {},
   "outputs": [],
   "source": [
    "import xarray as xr\n",
    "import rioxarray  # noqa\n",
    "from pathlib import Path\n",
    "\n",
    "import hvplot.xarray  # noqa\n",
    "import intake\n",
    "\n",
    "from mrs.catalog import get_intake_url"
   ]
  },
  {
   "cell_type": "code",
   "execution_count": null,
   "id": "2",
   "metadata": {},
   "outputs": [],
   "source": [
    "url = get_intake_url()\n",
    "cat = intake.open_catalog(url)\n",
    "fused_ds = cat[\"fused_array\"].read().compute()\n",
    "fused_ds"
   ]
  },
  {
   "cell_type": "markdown",
   "id": "3",
   "metadata": {},
   "source": [
    "We want to expand the datacube of the in-class exercise with a new variable in this assignment. The new variable is the Leaf Area Index (LAI), which is a dimensionless index measuring the one-sided green leaf area over a unit of land ($m^2 \\cdot m^{-2}$).\n",
    "\n",
    "## Question 1\n",
    "\n",
    "Load the new LAI data with the below provided code snippet and extract the CRS and resolution of the raster. Apply what you have learned in the in-class exercise by only using the packages as listed in the imports of this notebook. "
   ]
  },
  {
   "cell_type": "code",
   "execution_count": null,
   "id": "4",
   "metadata": {},
   "outputs": [],
   "source": [
    "url = get_intake_url()\n",
    "cat = intake.open_catalog(url)\n",
    "lai_ds = cat[\"lai\"].read().compute()\n",
    "lai_ds"
   ]
  },
  {
   "cell_type": "markdown",
   "id": "5",
   "metadata": {},
   "source": [
    "## Question 2\n",
    "\n",
    "In order to compare LAI with ALOS-2 L-band and Sentinel-1 C-band data, we will merge this variable with the SAR datacube (of the in-class exercise). Let's first check the temporal range of the SAR datacube (`fused_ds`) and the new `xarray` dataset: `lai_ds`."
   ]
  },
  {
   "cell_type": "code",
   "execution_count": null,
   "id": "6",
   "metadata": {},
   "outputs": [],
   "source": [
    "fused_ds.time"
   ]
  },
  {
   "cell_type": "code",
   "execution_count": null,
   "id": "7",
   "metadata": {},
   "outputs": [],
   "source": [
    "lai_ds.time"
   ]
  },
  {
   "cell_type": "markdown",
   "id": "8",
   "metadata": {},
   "source": [
    "The temporal range of `lai_ds` is longer then the fused ALOS-2 L-band and Sentinel-1 C-band datacube. To fit `lai_ds` object to the SAR datacube, we will need to cut the `lai_ds` temporal extent using the selection method (`sel`). Complete the following code snippet to perform the previous described selection operation."
   ]
  },
  {
   "cell_type": "code",
   "execution_count": null,
   "id": "9",
   "metadata": {},
   "outputs": [],
   "source": [
    "#| eval: false\n",
    "\n",
    "lai_ds = lai_ds.sel(time=slice(..., ...))  # YOUR CODE HERE\n",
    "lai_ds.time"
   ]
  },
  {
   "cell_type": "markdown",
   "id": "10",
   "metadata": {},
   "source": [
    "## Question 3\n",
    "\n",
    "Now that the temporal range of the LAI datacube matches that of `fused_ds`, we can continue by aligning the spatial coordinates, so that we can create a datacube containing both variables (LAI and SAR data). Yet again, apply the same methods as shown in the in-class exercise.\n",
    "\n",
    "Let's break this down into steps first align both datacubes. \n",
    "\n",
    "1) Align both datacubes. Remember to use the `rioxarray` package and use the default resampling method."
   ]
  },
  {
   "cell_type": "code",
   "execution_count": null,
   "id": "11",
   "metadata": {},
   "outputs": [],
   "source": [
    "#| eval: false\n",
    "\n",
    "lai_ds = ...  # YOUR CODE HERE\n",
    "lai_ds"
   ]
  },
  {
   "cell_type": "markdown",
   "id": "12",
   "metadata": {},
   "source": [
    "2) Write the coordinates of `fused_ds` to the reprojected `lai_ds` object to prevent mistakes caused by floating point errors."
   ]
  },
  {
   "cell_type": "code",
   "execution_count": null,
   "id": "13",
   "metadata": {},
   "outputs": [],
   "source": [
    "#| eval: false\n",
    "\n",
    "lai_ds = lai_ds.assign_coords({\"x\": ..., \"y\": ...})  # YOUR CODE HERE\n",
    "lai_ds"
   ]
  },
  {
   "cell_type": "markdown",
   "id": "14",
   "metadata": {},
   "source": [
    "If the previous operations were successfull, 3) we can merge the two variables: SAR and LAI. We use a different `xarray` function for this, where we combine the two variable to a `xarray.DataSet` with the `merge` function."
   ]
  },
  {
   "cell_type": "code",
   "execution_count": null,
   "id": "15",
   "metadata": {},
   "outputs": [],
   "source": [
    "#| eval: false\n",
    "\n",
    "# YOUR CODE HERE ----------------------------------------------------------\n",
    "fused_ds = xr.merge([..., ...])  # combine two variables in an Xarray.Dataset\n",
    "# YOUR CODE HERE ----------------------------------------------------------\n",
    "fused_ds"
   ]
  },
  {
   "cell_type": "markdown",
   "id": "16",
   "metadata": {},
   "source": [
    "The last step is the 4) `resample` operation to align the timestamps. Use again a median value."
   ]
  },
  {
   "cell_type": "code",
   "execution_count": null,
   "id": "17",
   "metadata": {},
   "outputs": [],
   "source": [
    "#| eval: false\n",
    "\n",
    "fused_ds = ...  # YOUR CODE HERE"
   ]
  },
  {
   "cell_type": "markdown",
   "id": "18",
   "metadata": {},
   "source": [
    "Plot the LAI variable with the following lines of code to check your results:"
   ]
  },
  {
   "cell_type": "code",
   "execution_count": null,
   "id": "19",
   "metadata": {},
   "outputs": [],
   "source": [
    "#| eval: false\n",
    "\n",
    "fused_ds.LAI.\\\n",
    "    dropna(dim=\"time\", how=\"all\").\\\n",
    "    hvplot.image(robust=True, data_aspect=1, cmap=\"viridis\", rasterize=True).\\\n",
    "    opts(frame_height=400, aspect=\"equal\")"
   ]
  },
  {
   "cell_type": "code",
   "execution_count": null,
   "id": "20",
   "metadata": {},
   "outputs": [],
   "source": [
    "#| eval: false\n",
    "\n",
    "to_store = fused_ds.copy()\n",
    "for var in to_store.variables:\n",
    "    to_store[var].encoding.clear()\n",
    "to_store.to_zarr(\"fused_ds.zarr\", mode=\"w\")"
   ]
  }
 ],
 "metadata": {
  "kernelspec": {
   "display_name": "microwave-remote-sensing",
   "language": "python",
   "name": "microwave-remote-sensing"
  },
  "language_info": {
   "codemirror_mode": {
    "name": "ipython",
    "version": 3
   },
   "file_extension": ".py",
   "mimetype": "text/x-python",
   "name": "python",
   "nbconvert_exporter": "python",
   "pygments_lexer": "ipython3",
   "version": "3.13.9"
  }
 },
 "nbformat": 4,
 "nbformat_minor": 5
}
