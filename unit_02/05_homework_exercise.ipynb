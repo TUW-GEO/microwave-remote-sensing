{
 "cells": [
  {
   "cell_type": "markdown",
   "id": "0",
   "metadata": {},
   "source": [
    "# Homework Exercise 5: SAR Wavelength and Polarization\n",
    "\n",
    "We have seen that cross- and co-polarized signals for Sentinel-1 and ALOS-2 seem to be dependent on the type of vegetation. Let's have a closer look at this."
   ]
  },
  {
   "cell_type": "code",
   "execution_count": null,
   "id": "1",
   "metadata": {},
   "outputs": [],
   "source": [
    "import numpy as np\n",
    "import xarray as xr\n",
    "import pandas as pd\n",
    "\n",
    "import holoviews as hv\n",
    "import hvplot.xarray  # noqa\n",
    "import intake\n",
    "\n",
    "from mrs.catalog import get_intake_url"
   ]
  },
  {
   "cell_type": "markdown",
   "id": "2",
   "metadata": {},
   "source": [
    "## Question 1\n",
    "\n",
    "We will try to highlight the difference between cross- and co-polarized microwave backscattering for Sentinel-1 and ALOS-2 separately. As already indicated volume scattering leads to depolarization effects, where multiple scattering can cause a change in polarization. Hence, a cross-polarized receiving antenna, such as on-board the Sentinel-1 and ALOS-2 satellites, may receive less energy from smooth bare soils than from vegetated surfaces. And the received energy for a cross-polarized receiving antenna will increase with increasing vegetation density. Hence this property of depolarization with vegetation density can be formulated as the *cross-polarised ratio*.\n",
    "\n",
    "\n",
    "$r_{cross} = \\frac{P_{VH}}{P_{VV}} = \\frac{\\gamma^0_{VH}}{\\gamma^0_{VV}}  \\quad \\text{for Sentinel-1}$\n",
    "\n",
    "$r_{cross} = \\frac{P_{HV}}{P_{HH}} = \\frac{\\gamma^0_{HV}}{\\gamma^0_{HH}}  \\quad \\text{for ALOS-2}$\n",
    "\n",
    "Now you will calculate cross-polarised ratios for Sentinel-1 and ALOS-2.\n",
    "\n",
    "First load again the same dataset.\n",
    "\n",
    "<div class=\"alert alert-block alert-info\">\n",
    "<b>Tip:</b> The calculation of the cross-ratio refers to the linear domain \n",
    "and therefore needs a conversion from dB to linear scale. Checkout Notebook 2 again for the conversion.\n",
    "</div>"
   ]
  },
  {
   "cell_type": "code",
   "execution_count": null,
   "id": "3",
   "metadata": {},
   "outputs": [],
   "source": [
    "url = get_intake_url()\n",
    "cat = intake.open_catalog(url)\n",
    "fused_ds = cat[\"fused_array\"].read().compute()\n",
    "fused_ds"
   ]
  },
  {
   "cell_type": "markdown",
   "id": "4",
   "metadata": {},
   "source": [
    "Calculate the cross-polarised ratios separately for each of the satellites with standard mathematical operations on the fused `xarray` and store the results in two new `xarray` objects. Make sure to transform the cross-polarised ratio (CR) to linear units for easier interpretation in the following questions."
   ]
  },
  {
   "cell_type": "code",
   "execution_count": null,
   "id": "5",
   "metadata": {},
   "outputs": [],
   "source": [
    "#| eval: false\n",
    "\n",
    "rcross_da_s1 = ...  # YOUR CODE HERE\n",
    "rcross_da_alos = ...  # YOUR CODE HERE"
   ]
  },
  {
   "cell_type": "markdown",
   "id": "6",
   "metadata": {},
   "source": [
    "After you calculate the CR, plot the results with the following code."
   ]
  },
  {
   "cell_type": "code",
   "execution_count": null,
   "id": "7",
   "metadata": {},
   "outputs": [],
   "source": [
    "#| eval: false\n",
    "\n",
    "LAI_mean = fused_ds.LAI.mean(\"time\")\n",
    "\n",
    "LAI_image = LAI_mean.hvplot.\\\n",
    "    image(rasterize=True, cmap='viridis', clim=(0, 6)).\\\n",
    "    opts(title=\"Mean LAI (Selectable)\", frame_height=400, aspect=\"equal\")\n",
    "\n",
    "id_sat = pd.Index([\"sentinel\", \"alos\"], name=\"sat\")\n",
    "rcross_da = xr.concat([rcross_da_s1, rcross_da_alos], id_sat)\n",
    "\n",
    "\n",
    "def get_timeseries(x, y):\n",
    "    \"\"\"\n",
    "    Callback Function Holoviews\n",
    "\n",
    "    Parameters\n",
    "    ----------\n",
    "    x: float\n",
    "        numeric value for x selected on LAI map\n",
    "    y: float\n",
    "        numeric value for y selected on LAI map\n",
    "    \"\"\"\n",
    "\n",
    "    lai_value = LAI_mean.sel(x=x, y=y, method=\"nearest\").values\n",
    "\n",
    "    if np.isnan(lai_value):\n",
    "        select = rcross_da.where(LAI_mean.isnull())\n",
    "        label = \"Water\"\n",
    "    else:\n",
    "        mask = np.isclose(LAI_mean, lai_value, atol=0.05)\n",
    "        select = rcross_da.where(mask)\n",
    "        label = \"Mean LAI: \" + str(np.round(lai_value, 1))\n",
    "\n",
    "    time_series = select.to_dataset(\"sat\").\\\n",
    "        median([\"x\", \"y\"], skipna=True).\\\n",
    "        hvplot.scatter(ylim=(0, 0.5)).\\\n",
    "        opts(title=label, frame_height=400)\n",
    "\n",
    "    return time_series\n",
    "\n",
    "\n",
    "point_stream = hv.streams.SingleTap(source=LAI_image)\n",
    "time_series = hv.DynamicMap(get_timeseries, streams=[point_stream])\n",
    "LAI_image + time_series"
   ]
  },
  {
   "cell_type": "markdown",
   "id": "8",
   "metadata": {},
   "source": [
    "*Figure 1: (Left) Map of MEAN LAI around Lake Garda. The pixel values can be seen by hovering your mouse over it. Clicking on the pixel will generate the timeseries for the associated mean LAI on the right hand-side. (Right) Timeseries of CR for Sentinel-1 and ALOS-2.*\n",
    "\n",
    "## Question 2\n",
    "\n",
    "Analyse the plot that you created above. Based on what you see, select the correct statements.\n",
    "\n",
    "- [ ] The received energy for cross-polarized backscatter of both satellites increases with LAI\n",
    "- [ ] The received energy for co-polarized backscatter of both satellites increases with LAI\n",
    "- [ ] The received energy of cross-polarized backscattering at high LAI is higher for L-band than for C-band wavelength\n",
    "- [ ] The received energy of co-polarized backscattering at high LAI is higher for L-band than for C-band wavelength\n",
    "\n",
    "## Question 3\n",
    "\n",
    "For this question we will create a boxplot to analyse the sensitivity of CR with to changes in LAI. Sensitivity means how high a response is when we change another variable, like LAI in this case. So an increased sensitivity means a higher response for the same increase in LAI. The boxplot uses boxes to illustrate the distributions of binned LAI values. Box limits indicate the range of the central 50% of the data (a.k.a inter quartile range: IQR), with the median value depicted as a central red line. The whisker limits demarcate 1.5 times the distance of the IQR. Values outside of the whiskers are considered outliers. Outliers have been eliminated in this plot to make the plot more readable."
   ]
  },
  {
   "cell_type": "code",
   "execution_count": null,
   "id": "9",
   "metadata": {},
   "outputs": [],
   "source": [
    "#| eval: false\n",
    "\n",
    "# labels for LAI bins\n",
    "ranger = [str(x).zfill(1) for x in range(1, 6)]\n",
    "\n",
    "# fuse LAI and ALOS-2 and Sentinel-1 CR\n",
    "LAI_df = fused_ds.LAI.to_dask_dataframe()\n",
    "LAI_df[\"LAI\"] = LAI_df[\"LAI\"].\\\n",
    "    map_partitions(pd.cut, bins=range(6), labels=ranger)\n",
    "LAI_df[\"alos\"] = rcross_da_alos.to_dask_dataframe()[\"gam0\"]\n",
    "LAI_df[\"s1\"] = rcross_da_s1.to_dask_dataframe()[\"gam0\"]\n",
    "\n",
    "# boxplot\n",
    "ax = LAI_df.compute().plot.box(column=[\"s1\", \"alos\"], by=\"LAI\",\n",
    "                               showfliers=False, figsize=(15, 6))\n",
    "ax[0].set_xlabel(r\"$\\text{LAI}$ [$m^2 \\cdot m^{-2}$]\")\n",
    "ax[0].set_ylabel(r\"$\\text{CR}$ [$m^2 \\cdot m^{-2}$]\")\n",
    "ax[1].set_xlabel(r\"$\\text{LAI}$ [$m^2 \\cdot m^{-2}$]\")\n",
    "ax[1].set_ylabel(r\"$\\text{CR}$ [$m^2 \\cdot m^{-2}$]\")"
   ]
  },
  {
   "cell_type": "markdown",
   "id": "10",
   "metadata": {},
   "source": [
    "*Figure 2: Boxplot for CR of Sentinel-1 and ALOS-2 for binned LAI values*\n",
    "\n",
    "Analyse the boxplot above. Based on what you see in the plot, which satellite is more sensitive to changes in vegetation? Can you also tell to what type of vegetation each satellite is most sensitive to? Explain your reasoning in detail."
   ]
  }
 ],
 "metadata": {
  "kernelspec": {
   "display_name": "microwave-remote-sensing",
   "language": "python",
   "name": "microwave-remote-sensing"
  },
  "language_info": {
   "codemirror_mode": {
    "name": "ipython",
    "version": 3
   },
   "file_extension": ".py",
   "mimetype": "text/x-python",
   "name": "python",
   "nbconvert_exporter": "python",
   "pygments_lexer": "ipython3",
   "version": "3.13.9"
  }
 },
 "nbformat": 4,
 "nbformat_minor": 5
}
