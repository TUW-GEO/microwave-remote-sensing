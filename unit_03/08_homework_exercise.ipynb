{
 "cells": [
  {
   "cell_type": "markdown",
   "id": "0",
   "metadata": {},
   "source": [
    "# Homework Exercise 8: Generation and Interpretation of an Interferogram using Sentinel-1 Imagery\n",
    "\n",
    "The following data were acquired from Sentinel-1 on April 23, 2018, from 16:15:24 to 16:15:51 over the region of Hawaii. Use the provided code to load and plot the preprocessed SAR interferometric data. \n",
    "Observe, analyse, and visually interpret the results."
   ]
  },
  {
   "cell_type": "code",
   "execution_count": null,
   "id": "1",
   "metadata": {},
   "outputs": [],
   "source": [
    "from pathlib import Path\n",
    "from io import BytesIO\n",
    "import base64\n",
    "\n",
    "import intake\n",
    "import xarray as xr\n",
    "import matplotlib.pyplot as plt\n",
    "import hvplot.xarray  # noqa: F401\n",
    "import seaborn as sns\n",
    "import holoviews as hv  # noqa: F401\n",
    "import folium\n",
    "from matplotlib.colors import ListedColormap\n",
    "\n",
    "from mrs.catalog import get_intake_url"
   ]
  },
  {
   "cell_type": "markdown",
   "id": "2",
   "metadata": {},
   "source": [
    "## Load the data"
   ]
  },
  {
   "cell_type": "code",
   "execution_count": null,
   "id": "3",
   "metadata": {},
   "outputs": [],
   "source": [
    "url = get_intake_url()\n",
    "cat = intake.open_catalog(url)\n",
    "ds = cat.ex8.read().compute()\n",
    "ds"
   ]
  },
  {
   "cell_type": "markdown",
   "id": "4",
   "metadata": {},
   "source": [
    "## Plotting the data"
   ]
  },
  {
   "cell_type": "code",
   "execution_count": null,
   "id": "5",
   "metadata": {},
   "outputs": [],
   "source": [
    "step = 4\n",
    "\n",
    "cmap_hls = sns.color_palette(\"hls\", n_colors=256).as_hex()\n",
    "\n",
    "ds = ds.where(ds != 0)\n",
    "igf_data = ds.PhaseBand.isel(x=slice(0, -1, step), y=slice(0, -1, step))\n",
    "coh_da = ds.CohBand.isel(x=slice(0, -1, step), y=slice(0, -1, step))\n",
    "\n",
    "igf_plot = igf_data.hvplot.image(\n",
    "    x=\"x\",\n",
    "    y=\"y\",\n",
    "    cmap=cmap_hls,\n",
    "    width=600,\n",
    "    height=600,\n",
    "    dynamic=False\n",
    ")\n",
    "\n",
    "\n",
    "coh_plot = coh_da.hvplot.image(\n",
    "    x=\"x\",\n",
    "    y=\"y\",\n",
    "    cmap=\"viridis\",\n",
    "    width=600,\n",
    "    height=600,\n",
    "    dynamic=False,\n",
    ").opts(clim=(0, 1))\n",
    "\n",
    "(igf_plot + coh_plot).opts(shared_axes=True)"
   ]
  },
  {
   "cell_type": "markdown",
   "id": "6",
   "metadata": {},
   "source": [
    "## Question 1"
   ]
  },
  {
   "cell_type": "markdown",
   "id": "7",
   "metadata": {},
   "source": [
    "Please refer to the above plots. Which of the following statements are correct?\n",
    "\n",
    "- [ ] The image on the left shows a phase interferogram.\n",
    "- [ ] The image on the right shows an amplitude interferogram, also called coherence.\n",
    "- [ ] The image on the right shows a RTC sigma nougth backscatter.\n",
    "\n",
    "Focus on the left plot. Which of the following statements are correct?\n",
    "\n",
    "- [ ] The fringe pattern could be indicative of both local surface topography and ground deformation.\n",
    "- [ ] The circular fringe pattern on the left indicates an uplifiting displacement.\n",
    "- [ ] The circular fringe pattern on the left indicates a sinking displacement."
   ]
  },
  {
   "cell_type": "markdown",
   "id": "8",
   "metadata": {},
   "source": [
    "Don't change anything in the next cell, besides the step for sampling (skipping pixels in the plot), if the plotting takes too long to finish."
   ]
  },
  {
   "cell_type": "code",
   "execution_count": null,
   "id": "9",
   "metadata": {},
   "outputs": [],
   "source": [
    "cmap_hls = ListedColormap(sns.color_palette(\"hls\", 256).as_hex())\n",
    "\n",
    "\n",
    "def array_to_img(data_array, cmap=\"viridis\"):\n",
    "    \"\"\"Convert an xarray DataArray to a base64-encoded PNG image.\"\"\"\n",
    "    fig, ax = plt.subplots(figsize=(6, 6), dpi=600)\n",
    "    data_array.plot(ax=ax, cmap=cmap, add_colorbar=False, add_labels=False)\n",
    "    ax.set_axis_off()\n",
    "    buf = BytesIO()\n",
    "    plt.savefig(\n",
    "        buf, format=\"png\", bbox_inches=\"tight\", pad_inches=0, transparent=True\n",
    "    )\n",
    "    plt.close(fig)\n",
    "    return base64.b64encode(buf.getvalue()).decode(\"utf-8\")\n",
    "\n",
    "\n",
    "# Prepare data\n",
    "step = 1\n",
    "igf_image = array_to_img(\n",
    "    ds.PhaseBand.isel(x=slice(0, -1, step), y=slice(0, -1, step)),\n",
    "    cmap=cmap_hls,\n",
    ")\n",
    "coh_image = array_to_img(\n",
    "    ds.CohBand.isel(x=slice(0, -1, step), y=slice(0, -1, step))\n",
    ")\n",
    "\n",
    "# Map setup and overlay function\n",
    "bounds = [\n",
    "    [float(ds.y.min()), float(ds.x.min())],\n",
    "    [float(ds.y.max()), float(ds.x.max())],\n",
    "]\n",
    "m = folium.Map(location=[ds.y.median(), ds.x.median()], zoom_start=10)\n",
    "folium.TileLayer(\n",
    "    tiles=(\n",
    "        \"https://server.arcgisonline.com/ArcGIS/rest/\"\n",
    "        + \"services/World_Imagery/MapServer/tile/{z}/{y}/{x}\"\n",
    "    ),\n",
    "    attr=\"Tiles &copy; Esri &mdash; Source: Esri, DeLorme, NAVTEQ\",\n",
    "    name=\"ESRI World Imagery\",\n",
    ").add_to(m)\n",
    "\n",
    "\n",
    "def overlay_image(map_obj, img_base64, bounds, name):\n",
    "    folium.raster_layers.ImageOverlay(\n",
    "        image=f\"data:image/png;base64,{img_base64}\",\n",
    "        bounds=bounds,\n",
    "        opacity=0.65,\n",
    "        name=name,\n",
    "    ).add_to(map_obj)\n",
    "\n",
    "\n",
    "# Add images and controls\n",
    "overlay_image(m, igf_image, bounds, \"IGF Data\")\n",
    "overlay_image(m, coh_image, bounds, \"Coherence Data\")\n",
    "folium.LayerControl().add_to(m)\n",
    "\n",
    "m"
   ]
  },
  {
   "cell_type": "markdown",
   "id": "10",
   "metadata": {},
   "source": [
    "## Question 2"
   ]
  },
  {
   "cell_type": "markdown",
   "id": "11",
   "metadata": {},
   "source": [
    "Please refer to the above plot, select the \"IGF Data\" layer, and select the correct statements:\n",
    "\n",
    "- [ ] The interferogram above depicts ground deformation due to an earthquake event.\n",
    "- [ ] The interferogram above depicts ground deformation due to a volcanic eruption event.\n",
    "- [ ] The interferogram above does not show evidence of ground deformation.\n",
    "\n",
    "Please refer to the above plot, select the \"Coherence Data\" layer, and select the correct statements:\n",
    "\n",
    "- [ ] The coherence is high (bright color) over urban areas.\n",
    "- [ ] The coherence is low (dark color) over forested areas.\n",
    "- [ ] The coherence is high over bare soil (non-forested areas)."
   ]
  }
 ],
 "metadata": {
  "kernelspec": {
   "display_name": "microwave-remote-sensing",
   "language": "python",
   "name": "microwave-remote-sensing"
  },
  "language_info": {
   "codemirror_mode": {
    "name": "ipython",
    "version": 3
   },
   "file_extension": ".py",
   "mimetype": "text/x-python",
   "name": "python",
   "nbconvert_exporter": "python",
   "pygments_lexer": "ipython3",
   "version": "3.13.9"
  }
 },
 "nbformat": 4,
 "nbformat_minor": 5
}
