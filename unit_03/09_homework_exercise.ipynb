{
 "cells": [
  {
   "cell_type": "markdown",
   "id": "0",
   "metadata": {},
   "source": [
    "# Homework Exercise 9: Phase Unwrapping Exercise\n",
    "\n",
    "Your task in this exercise is to read the provided data, plot it, unwrap and plot the phase, and calculate the displacement. Then interpret your results.\n",
    "The following data were acquired from Sentinel-1 on April 23, 2018, from 16:15:24 to 16:15:51 over the region of Hawaii (same data as 08_homework_exercise)."
   ]
  },
  {
   "cell_type": "code",
   "execution_count": null,
   "id": "1",
   "metadata": {},
   "outputs": [],
   "source": [
    "import intake\n",
    "import numpy as np\n",
    "import matplotlib.pyplot as plt  # noqa: F401\n",
    "import xarray as xr\n",
    "from pathlib import Path\n",
    "import cmcrameri as cmc  # noqa: F401\n",
    "import snaphu\n",
    "import seaborn as sns\n",
    "from IPython.display import clear_output\n",
    "from mrs.catalog import get_intake_url"
   ]
  },
  {
   "cell_type": "code",
   "execution_count": null,
   "id": "2",
   "metadata": {},
   "outputs": [],
   "source": [
    "url = get_intake_url()\n",
    "cat = intake.open_catalog(url)\n",
    "ds = cat.ex9.read().compute()\n",
    "\n",
    "# Set cyclic and linear colormaps\n",
    "cmap_cyc = sns.color_palette(\"hls\", as_cmap=True)\n",
    "cmap_lin = \"cmc.roma_r\"\n",
    "cmap_disp = \"cmc.vik\"\n",
    "\n",
    "# Create a mask for the areas which have no data\n",
    "mask = (ds.phase != 0).astype(bool)\n",
    "\n",
    "ds"
   ]
  },
  {
   "cell_type": "markdown",
   "id": "3",
   "metadata": {},
   "source": [
    "## Question 1\n",
    "\n",
    "Plot the above provided data. Please note that we are plotting images in Slant Range geometry (East-West flipped due to the descending acquisition pass)."
   ]
  },
  {
   "cell_type": "code",
   "execution_count": null,
   "id": "4",
   "metadata": {},
   "outputs": [],
   "source": [
    "#| eval: false\n",
    "\n",
    "fig, axes = plt.subplots(1,3, figsize=(15,5))\n",
    "ds.phase.where(mask).plot.imshow(cmap=cmap_cyc, ax=axes[0]).axes.set_title('Phase')\n",
    "# YOUR CODE HERE -> (Plot intensity map)\n",
    "# YOUR CODE HERE -> (Plot coherence map)\n",
    "plt.tight_layout()"
   ]
  },
  {
   "cell_type": "code",
   "execution_count": null,
   "id": "5",
   "metadata": {},
   "outputs": [],
   "source": [
    "def unwrap_array(data: xr.DataArray,\n",
    "                 mask: xr.DataArray = True,\n",
    "                 coherence: xr.DataArray = None,\n",
    "                 mask_nodata_value: int = 0,\n",
    "                 coh_low_threshold: float = None,\n",
    "                 coh_high_threshold: float = None,\n",
    "                 nlooks=1.0, cost=\"smooth\", init=\"mcf\",\n",
    "                 **kwargs) -> xr.DataArray:\n",
    "    \"\"\"\n",
    "    Unwraps the phase data using the snaphu algorithm.\n",
    "\n",
    "    data: xarray DataArray with complex numbers\n",
    "    mask: xarray DataArray with mask values\n",
    "    coherence: xarray DataArray with coherence values (optional)\n",
    "    mask_nodata_value: Value of the no data pixels in the mask\n",
    "    coh_low_threshold: Lower threshold for the coherence values\n",
    "    coh_high_threshold: Higher threshold for the coherence values\n",
    "\n",
    "    Return: xarray DataArray with the unwrapped phase\n",
    "    \"\"\"\n",
    "\n",
    "    # Create a mask for areas with no data\n",
    "    if mask is True:\n",
    "        mask = (data.real != mask_nodata_value).astype(bool)\n",
    "\n",
    "    # Apply coherence thresholds if provided\n",
    "    if coherence is not None:\n",
    "        if coh_low_threshold is not None:\n",
    "            coh_mask = (coherence >= coh_low_threshold).astype(bool)\n",
    "            mask = mask & coh_mask\n",
    "        if coh_high_threshold is not None:\n",
    "            coh_mask = (coherence <= coh_high_threshold).astype(bool)\n",
    "            mask = mask & coh_mask\n",
    "\n",
    "    # Apply the mask to the data\n",
    "    data = data.where(mask)\n",
    "\n",
    "    if coherence is None:\n",
    "        coherence = np.ones_like(data.real)\n",
    "\n",
    "    # Unwrap the phase (already in complex form)\n",
    "    unw, _ = snaphu.unwrap(data,\n",
    "                           coherence, nlooks=nlooks,\n",
    "                           cost=cost, init=init,\n",
    "                           mask=mask, **kwargs)\n",
    "\n",
    "    # clear snaphu output\n",
    "    clear_output()\n",
    "\n",
    "    # Build xarray DataArray with the unwrapped phase\n",
    "    unw_da = xr.DataArray(unw, coords=data.coords, dims=data.dims)\n",
    "\n",
    "    # Mask the unwrapped phase\n",
    "    unw_da = unw_da.where(mask)\n",
    "    return unw_da"
   ]
  },
  {
   "cell_type": "markdown",
   "id": "6",
   "metadata": {},
   "source": [
    "## Question 2\n",
    "\n",
    "Use the above function to unwrap the given interferogram and to plot your result.\n",
    "Use a coherence threshold of 0.2 for your unwrapping and use the provided lines of code below to coarsen the input (to fasten the process). \n",
    "Kernels with values higher than 3 might lead the unwrapping function to crash, therefore please do not change it.\n",
    "It might take up to 1 or 2 minutes to execute the function, let the code run, and the output be printed (it will be cleared out at the end)."
   ]
  },
  {
   "cell_type": "code",
   "execution_count": null,
   "id": "7",
   "metadata": {},
   "outputs": [],
   "source": [
    "# coarsen \n",
    "kernel = 3\n",
    "ds = ds.coarsen(x=kernel, y=kernel, boundary=\"trim\").mean()"
   ]
  },
  {
   "cell_type": "code",
   "execution_count": null,
   "id": "8",
   "metadata": {},
   "outputs": [],
   "source": [
    "#| eval: false\n",
    "\n",
    "unwrapped = ... # YOUR CODE HERE -> perform unwrapping function\n",
    "\n",
    "unwrapped.plot.imshow(cmap=cmap_cyc)"
   ]
  },
  {
   "cell_type": "code",
   "execution_count": null,
   "id": "9",
   "metadata": {},
   "outputs": [],
   "source": [
    "def displacement(unwrapped, lambda_val: float = 0.056) -> xr.DataArray:\n",
    "    \"\"\"\n",
    "    Calculates the displacement from the unwrapped phase\n",
    "\n",
    "    unw: xarray DataArray with the unwrapped phase\n",
    "    unw: xr.DataArray\n",
    "    lambda_val: Wavelength of the radar signal\n",
    "    lambda_val: float\n",
    "\n",
    "    Return: xarray DataArray with the displacement\n",
    "    \"\"\"\n",
    "    disp = unwrapped * - lambda_val / (4 * np.pi)\n",
    "    return disp"
   ]
  },
  {
   "cell_type": "markdown",
   "id": "10",
   "metadata": {},
   "source": [
    "## Question 3\n",
    "\n",
    "Use the above function to calculate the displacement from the unwrapped interferogram, then plot your result with the correct colormap.\n",
    "Can you guess which kind of phenomenon is responsible for the ground surface displacement that you observe?"
   ]
  },
  {
   "cell_type": "code",
   "execution_count": null,
   "id": "11",
   "metadata": {},
   "outputs": [],
   "source": [
    "# YOUR CODE HERE -> perform displacement function\n",
    "# YOUR CODE HERE -> plot displacement map"
   ]
  }
 ],
 "metadata": {
  "kernelspec": {
   "display_name": "microwave-remote-sensing",
   "language": "python",
   "name": "microwave-remote-sensing"
  },
  "language_info": {
   "codemirror_mode": {
    "name": "ipython",
    "version": 3
   },
   "file_extension": ".py",
   "mimetype": "text/x-python",
   "name": "python",
   "nbconvert_exporter": "python",
   "pygments_lexer": "ipython3",
   "version": "3.13.9"
  }
 },
 "nbformat": 4,
 "nbformat_minor": 5
}
