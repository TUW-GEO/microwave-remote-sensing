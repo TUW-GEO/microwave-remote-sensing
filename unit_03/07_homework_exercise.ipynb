{
 "cells": [
  {
   "cell_type": "markdown",
   "id": "0",
   "metadata": {},
   "source": [
    "# Homework Exercise 7: Speckle Statistics\n",
    "\n",
    "During the in-class exercise, we learned about the origin of speckles and ways to mitigate it. In this exercise, your task will be to apply a Lee filter (spatial filter) with different kernel sizes to the same study area."
   ]
  },
  {
   "cell_type": "code",
   "execution_count": null,
   "id": "1",
   "metadata": {},
   "outputs": [],
   "source": [
    "import intake\n",
    "import numpy as np\n",
    "import xarray as xr\n",
    "from pathlib import Path\n",
    "from scipy.ndimage import uniform_filter  #noqa\n",
    "import hvplot.xarray  # noqa\n",
    "\n",
    "from mrs.catalog import get_intake_url"
   ]
  },
  {
   "cell_type": "markdown",
   "id": "2",
   "metadata": {},
   "source": [
    "## Question 1"
   ]
  },
  {
   "cell_type": "markdown",
   "id": "3",
   "metadata": {},
   "source": [
    "We will use already known data, which consists of Sentinel-1 **sigma naught** $\\sigma^0$ images focusing on Lake Neusiedl and the surrounding area, where the CORINE land cover is used for land cover-based visualization and analysis."
   ]
  },
  {
   "cell_type": "code",
   "execution_count": null,
   "id": "4",
   "metadata": {},
   "outputs": [],
   "source": [
    "url = get_intake_url()\n",
    "cat = intake.open_catalog(url)\n",
    "sig0_da = cat.speckle.read().sig0.compute()\n",
    "sig0_da"
   ]
  },
  {
   "cell_type": "markdown",
   "id": "5",
   "metadata": {},
   "source": [
    "Let's build up the Lee filter function:"
   ]
  },
  {
   "cell_type": "code",
   "execution_count": null,
   "id": "6",
   "metadata": {},
   "outputs": [],
   "source": [
    "#| eval: false\n",
    "\n",
    "def lee_filter(raster, size=...):\n",
    "    \"\"\"\n",
    "    Parameters:\n",
    "    raster: ndarray\n",
    "\n",
    "    size: int\n",
    "\n",
    "    Returns:\n",
    "    filtered_image (ndarray): The filtered image with reduced speckle noise\n",
    "    \"\"\"\n",
    "\n",
    "    filtered_image = ...  # YOUR CODE HERE\n",
    "\n",
    "    return filtered_image"
   ]
  },
  {
   "cell_type": "markdown",
   "id": "7",
   "metadata": {},
   "source": [
    "## Question 2"
   ]
  },
  {
   "cell_type": "markdown",
   "id": "8",
   "metadata": {},
   "source": [
    "Apply your function and compute the Lee filter for at least two different kernel sizes (size number must be odd)."
   ]
  },
  {
   "cell_type": "code",
   "execution_count": null,
   "id": "9",
   "metadata": {},
   "outputs": [],
   "source": [
    "#| eval: false\n",
    "\n",
    "sig0_da.data = ...  # YOUR CODE HERE"
   ]
  },
  {
   "cell_type": "markdown",
   "id": "10",
   "metadata": {},
   "source": [
    "Plot you results usign the following code:"
   ]
  },
  {
   "cell_type": "code",
   "execution_count": null,
   "id": "11",
   "metadata": {},
   "outputs": [],
   "source": [
    "#| eval: false\n",
    "\n",
    "sig0_da.hvplot.image(\n",
    "    x=\"x\", y=\"y\", robust=True, data_aspect=1, cmap=\"Greys_r\", rasterize=True\n",
    ").opts(frame_height=600, framewise=False, aspect=\"equal\")"
   ]
  },
  {
   "cell_type": "markdown",
   "id": "12",
   "metadata": {},
   "source": [
    "## Question 3"
   ]
  },
  {
   "cell_type": "markdown",
   "id": "13",
   "metadata": {},
   "source": [
    "Based on your plotted results, select which of the below statement is correct:"
   ]
  },
  {
   "cell_type": "markdown",
   "id": "14",
   "metadata": {},
   "source": [
    "- [ ] The larger the kernel size, the lower the resolution of the resulting image.\n",
    "- [ ] The smaller the kernel size, the more speckle noise is removed.\n",
    "- [ ] The choice of the kernel size has no impact on the speckle noise removal.\n",
    "- [ ] The larger the kernel size, the more speckle noise is removed."
   ]
  }
 ],
 "metadata": {
  "kernelspec": {
   "display_name": "microwave-remote-sensing",
   "language": "python",
   "name": "microwave-remote-sensing"
  },
  "language_info": {
   "codemirror_mode": {
    "name": "ipython",
    "version": 3
   },
   "file_extension": ".py",
   "mimetype": "text/x-python",
   "name": "python",
   "nbconvert_exporter": "python",
   "pygments_lexer": "ipython3",
   "version": "3.13.9"
  }
 },
 "nbformat": 4,
 "nbformat_minor": 5
}
