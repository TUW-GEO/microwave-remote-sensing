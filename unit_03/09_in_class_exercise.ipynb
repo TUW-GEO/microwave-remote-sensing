{
 "cells": [
  {
   "cell_type": "markdown",
   "id": "0",
   "metadata": {},
   "source": [
    "# Phase Unwrapping\n",
    "\n",
    "The goal of this notebook is to read an interferogram image (i.e., 2-D array of phase values) and unwrap it. Phase unwrapping is a critical process in interferometry, which involves recovering unambiguous phase data from the interferogram.\n",
    "\n",
    "A SAR interferogram represents the phase difference between two radar acquisitions (i.e., two SLC images). The phase difference is usually wrapped within a range of 0 to 2π, because the phase is inherently cyclical. When the true phase difference exceeds 2π, it gets \"wrapped\" into this range, creating a discontinuous phase signal. Phase unwrapping refers to the process of reconstructing the continuous phase field from the wrapped phase data.\n",
    "\n",
    "Unwrapping an interferogram is essential for extracting correct information contained in the phase such as surface topography and earth surface deformations.\n",
    "\n",
    "There are many approaches that tried to solve the unwrapping problem, tackling challenging scenarios involving noise or large phase discontinuities. Here we present the Network-flow Algorithm for phase unwrapping (C. W. Chen and H. A. Zebker, 2000), which is implemented in the `snaphu` package.\n",
    "\n",
    "## Loading Data\n",
    "The data is stored on the Jupyterhub server, so we need to load it using their respective paths.\n",
    "In this notebook we will use the resulting wrapped interferogram from notebook \"Interferograms\", but we need to process it in the radar geometry in order to unwrap it (while in notebook \"Interferograms\" we end the whole process by performing the geocoding, just for better visualization purposes).\n"
   ]
  },
  {
   "cell_type": "code",
   "execution_count": null,
   "id": "1",
   "metadata": {},
   "outputs": [],
   "source": [
    "import cmcrameri as cmc  # noqa: F401\n",
    "import intake\n",
    "import numpy as np\n",
    "import seaborn as sns\n",
    "import snaphu  # noqa: F401\n",
    "import xarray as xr\n",
    "\n",
    "from mrs.catalog import get_intake_url\n",
    "from mrs.plot import (\n",
    "    plot_coarsened_image,\n",
    "    plot_compare_coherence_mask_presence,\n",
    "    plot_compare_wrapped_unwrapped_completewrapped,\n",
    "    plot_different_coherence_thresholds,\n",
    "    plot_displacement_map,\n",
    "    plot_interferogram_map,\n",
    "    plot_summary,\n",
    ")\n",
    "from mrs.processing import subsetting, unwrap_array"
   ]
  },
  {
   "cell_type": "code",
   "execution_count": null,
   "id": "2",
   "metadata": {},
   "outputs": [],
   "source": [
    "url = get_intake_url()\n",
    "catalog = intake.open_catalog(url)\n",
    "ds = catalog.complex.read().compute()\n",
    "ds[\"cmplx\"] = ds[\"real\"] + ds[\"imag\"] * 1j"
   ]
  },
  {
   "cell_type": "code",
   "execution_count": null,
   "id": "3",
   "metadata": {},
   "outputs": [],
   "source": [
    "# Set cyclic and linear colormaps\n",
    "cmap_cyc = sns.color_palette(\"hls\", as_cmap=True)\n",
    "cmap_lin = \"cmc.roma_r\"\n",
    "cmap_disp = \"cmc.vik\"\n",
    "\n",
    "# Create a mask for the areas which have no data\n",
    "mask = ds.phase.where(ds.phase == 0, other=True, drop=False).astype(bool)"
   ]
  },
  {
   "cell_type": "markdown",
   "id": "4",
   "metadata": {},
   "source": [
    "Let's start by displaying the interferogram that needs to be unwrapped. Recall that due to the Slant Range geometry and the satellite acquisition pass (ascending, in our case), the image appears north/south flipped (with respect to the geocoded image)!\n"
   ]
  },
  {
   "cell_type": "code",
   "execution_count": null,
   "id": "5",
   "metadata": {},
   "outputs": [],
   "source": [
    "# Plot Phase Interferogram Image\n",
    "plot_interferogram_map(ds=ds, mask=mask, cmap_cyc=cmap_cyc)"
   ]
  },
  {
   "cell_type": "markdown",
   "id": "6",
   "metadata": {},
   "source": [
    "## Phase Unwrapping\n",
    "\n",
    "As we will be doing the unwrapping multiple times in this notebook let's create a function that does the unwrapping for us on `xarray DataArray` objects.\n",
    "The actual core function where the unwrapping is happening is `snaphu.unwrap_phase` from the `snaphu` package. This function needs a 2D numpy array as input, where each pixel value is a complex number.\n",
    "Therefore, we have to convert the `xarray DataArray` to a 2D numpy array with complex values. We do that by combining the phase and intensity bands to a complex array.\n",
    "The actual unwrapping is essentially an addition of the phase values, such that the values are continuous and not between $-\\pi$ and $\\pi$.\n",
    "\n",
    "![](https://forum.step.esa.int/uploads/default/original/3X/5/d/5d9d18e2a3121a4bb80cb93a8f62aed742e35fc2.png)\n",
    "\n",
    "*Figure 1: Illustration of how the unwrapping of the phase works. (Source: ESA)*.\n"
   ]
  },
  {
   "cell_type": "markdown",
   "id": "7",
   "metadata": {},
   "source": [
    "### Unwrapping on a Subset\n",
    "\n",
    "As the original image is too large to unwrap in a reasonable time, we will unwrap a subset of the image. In this case, we will unwrap an area of 500x500 pixels.\n"
   ]
  },
  {
   "cell_type": "code",
   "execution_count": null,
   "id": "8",
   "metadata": {},
   "outputs": [],
   "source": [
    "# Select a subset of the data\n",
    "dx, dy = 500, 500\n",
    "x0, y0 = 2800, 1700\n",
    "\n",
    "\n",
    "# Subsetting the data arrays\n",
    "subset = subsetting(ds.where(mask), x0, y0, dx, dy)\n",
    "\n",
    "# Unwrap the subset\n",
    "subset = unwrap_array(subset, complex_var=\"cmplx\", ouput_var=\"unwrapped\")"
   ]
  },
  {
   "cell_type": "markdown",
   "id": "9",
   "metadata": {},
   "source": [
    "Now let's compare the wrapped and unwrapped phase images.\n"
   ]
  },
  {
   "cell_type": "code",
   "execution_count": null,
   "id": "10",
   "metadata": {},
   "outputs": [],
   "source": [
    "plot_compare_wrapped_unwrapped_completewrapped(\n",
    "    subset=subset,\n",
    "    cmap_cyc=cmap_cyc,\n",
    "    ds=ds,\n",
    "    mask=mask,\n",
    "    p0=(x0, y0),\n",
    "    dxy=(dx, dy),\n",
    ")"
   ]
  },
  {
   "cell_type": "markdown",
   "id": "11",
   "metadata": {},
   "source": [
    "### Unwrapping with coherence mask\n",
    "Additionally, can we try to calculate the unwrapped image by excluding pixels which the coherence values are lower than a certain threshold. This is done by masking the coherence image with the threshold value and then unwrapping the phase image with the masked coherence image.\n"
   ]
  },
  {
   "cell_type": "code",
   "execution_count": null,
   "id": "12",
   "metadata": {},
   "outputs": [],
   "source": [
    "threshold1 = 0.3\n",
    "\n",
    "subset_unwrapped_coherence = unwrap_array(\n",
    "    subset,\n",
    "    coherence=subset.coh,\n",
    "    coh_low_threshold=threshold1,\n",
    "    complex_var=\"cmplx\",\n",
    "    ouput_var=\"unwrapped_coh\",\n",
    ")"
   ]
  },
  {
   "cell_type": "markdown",
   "id": "13",
   "metadata": {},
   "source": [
    "Let's compare the unwrapped image with and without the coherence mask.\n"
   ]
  },
  {
   "cell_type": "code",
   "execution_count": null,
   "id": "14",
   "metadata": {},
   "outputs": [],
   "source": [
    "plot_compare_coherence_mask_presence(\n",
    "    subset=subset_unwrapped_coherence,\n",
    "    cmap_cyc=cmap_cyc,\n",
    "    threshold=threshold1,\n",
    ")"
   ]
  },
  {
   "cell_type": "markdown",
   "id": "15",
   "metadata": {},
   "source": [
    "Let's see if another threshold value for the coherence mask gives better results.\n"
   ]
  },
  {
   "cell_type": "code",
   "execution_count": null,
   "id": "16",
   "metadata": {},
   "outputs": [],
   "source": [
    "threshold2 = 0.5\n",
    "subset_unwrapped_coherence_threshold2 = unwrap_array(\n",
    "    subset,\n",
    "    coherence=subset.coh,\n",
    "    coh_low_threshold=threshold2,\n",
    "    complex_var=\"cmplx\",\n",
    "    ouput_var=\"unwrapped_coh\",\n",
    ")\n",
    "\n",
    "\n",
    "plot_different_coherence_thresholds(\n",
    "    ds_coh=subset_unwrapped_coherence,\n",
    "    ds_coh_2=subset_unwrapped_coherence_threshold2,\n",
    "    cmap_cyc=cmap_cyc,\n",
    ")"
   ]
  },
  {
   "cell_type": "markdown",
   "id": "17",
   "metadata": {},
   "source": [
    "A higher coherence threshold means that only pixels with a coherence value greater than 0.5 will be used for phase unwrapping. This would result in an unwrapping process that is likely more stable, with reduced noise (invalid phase information in the proximity of the earthquake faults is discarded). However, an excessive coherence threshold might have significant gaps or missing information, especially in areas where motion or surface changes have occurred.\n",
    "The choice of a coherence threshold depends on the balance you want to strike between the accuracy and coverage of the output unwrapped image.\n",
    "\n",
    "Keep in mind that in case of large displacements, such as the Ridgecrest earthquake, phase unwrapping can be problematic and lead to poor results: when the displacement is large, the phase difference becomes wrapped multiple times, leading to phase aliasing. In this case, the phase values become ambiguous, we cannot distinguish between multiple phase wraps, thus leading to incorrect results.\n",
    "\n",
    "## Applying an Equation for the Displacement Map\n",
    "\n",
    "From the unwrapped phase image (we will use the phase masked with a coherence threshold of 0.3) we can calculate the displacement map using the following equation:\n",
    "\n",
    "$\n",
    "d = - \\frac{\\lambda}{4 \\cdot \\pi} \\cdot \\Delta \\phi_d\n",
    "$\n",
    "\n",
    "where:\n",
    "- $\\lambda = 0.056$ for Sentinel-1\n",
    "- $\\Delta \\phi_d$ is the unwrapped image\n",
    "\n",
    "This operation can be very useful for monitoring ground deformation.\n"
   ]
  },
  {
   "cell_type": "code",
   "execution_count": null,
   "id": "18",
   "metadata": {},
   "outputs": [],
   "source": [
    "def displacement(unw: xr.DataArray, lambda_val: float = 0.056) -> xr.DataArray:\n",
    "    \"\"\"Compute the displacement given the unwrapped phase.\"\"\"\n",
    "    return unw * -lambda_val / (4 * np.pi)\n",
    "\n",
    "\n",
    "# Calculate the displacement\n",
    "disp_subset = displacement(subset.unwrapped_coh)"
   ]
  },
  {
   "cell_type": "code",
   "execution_count": null,
   "id": "19",
   "metadata": {},
   "outputs": [],
   "source": [
    "# Plot the displacement map\n",
    "plot_displacement_map(\n",
    "    subset=disp_subset,\n",
    "    cmap_disp=cmap_disp,\n",
    "    title=\"Displacement Map of the Subset\",\n",
    ")"
   ]
  },
  {
   "cell_type": "markdown",
   "id": "20",
   "metadata": {},
   "source": [
    "## Coarsen Approach\n",
    "\n",
    "As the whole data is too large and the processing time already exceeds 20 minutes when using an image with 4000x4000 pixels, we can coarsen the image so that we can unwrap and compute the displacement for the whole scene.\n"
   ]
  },
  {
   "cell_type": "code",
   "execution_count": null,
   "id": "21",
   "metadata": {},
   "outputs": [],
   "source": [
    "kernel_size = 3\n",
    "\n",
    "lowres = ds.coarsen(x=kernel_size, y=kernel_size, boundary=\"trim\").median()"
   ]
  },
  {
   "cell_type": "code",
   "execution_count": null,
   "id": "22",
   "metadata": {},
   "outputs": [],
   "source": [
    "lowres = unwrap_array(\n",
    "    lowres,\n",
    "    tile_overlap=10,\n",
    "    coherence=lowres.coh,\n",
    "    coh_low_threshold=0.3,\n",
    "    ntiles=(20, 30),\n",
    ")"
   ]
  },
  {
   "cell_type": "markdown",
   "id": "23",
   "metadata": {},
   "source": [
    "We can now plot the unwrapped image of the low resolution image.\n"
   ]
  },
  {
   "cell_type": "code",
   "execution_count": null,
   "id": "24",
   "metadata": {},
   "outputs": [],
   "source": [
    "# Plot the unwrapped phase\n",
    "plot_coarsened_image(lowres=lowres, cmap_cyc=cmap_cyc)"
   ]
  },
  {
   "cell_type": "markdown",
   "id": "25",
   "metadata": {},
   "source": [
    "We can also now calculate the displacement map and compare them.\n"
   ]
  },
  {
   "cell_type": "code",
   "execution_count": null,
   "id": "26",
   "metadata": {},
   "outputs": [],
   "source": [
    "lowres_disp = displacement(lowres.unwrapped)\n",
    "\n",
    "# Plot the displacement map\n",
    "plot_displacement_map(\n",
    "    subset=lowres_disp,\n",
    "    cmap_disp=cmap_disp,\n",
    "    title=\"Displacement Map entire scene (coarse resolution)\",\n",
    ")"
   ]
  },
  {
   "cell_type": "markdown",
   "id": "27",
   "metadata": {},
   "source": [
    "Plot a summary of the previous plots:\n"
   ]
  },
  {
   "cell_type": "code",
   "execution_count": null,
   "id": "28",
   "metadata": {},
   "outputs": [],
   "source": [
    "# Plot summary of previous plots\n",
    "plot_summary(\n",
    "    subset=subset,\n",
    "    subset_disp=disp_subset,\n",
    "    lowres=lowres,\n",
    "    lowres_disp=lowres_disp,\n",
    "    cmap_cyc=cmap_cyc,\n",
    "    cmap_disp=cmap_disp,\n",
    ")"
   ]
  },
  {
   "cell_type": "markdown",
   "id": "29",
   "metadata": {},
   "source": [
    "In the following animation, we can capture the 3D displacement caused by the Ridgecrest quake by observing the after and before elevation model.\n",
    "\n",
    "![](../images/ridgecrest.gif)\n",
    "*Credits: NASA*"
   ]
  }
 ],
 "metadata": {
  "kernelspec": {
   "display_name": "microwave-remote-sensing",
   "language": "python",
   "name": "microwave-remote-sensing"
  },
  "language_info": {
   "codemirror_mode": {
    "name": "ipython",
    "version": 3
   },
   "file_extension": ".py",
   "mimetype": "text/x-python",
   "name": "python",
   "nbconvert_exporter": "python",
   "pygments_lexer": "ipython3",
   "version": "3.11.13"
  }
 },
 "nbformat": 4,
 "nbformat_minor": 5
}
