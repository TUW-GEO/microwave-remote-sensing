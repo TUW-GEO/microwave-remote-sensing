{
 "cells": [
  {
   "cell_type": "markdown",
   "id": "0",
   "metadata": {},
   "source": [
    "---\n",
    "title: Phase Unwrapping\n",
    "jupyter: \"microwave-remote-sensing\"\n",
    "---\n",
    "\n",
    "\n",
    "\n",
    "The goal of this notebook is to read an interferogram image (i.e., 2-D array of phase values) and unwrap it. Phase unwrapping is a critical process in interferometry, which involves recovering unambiguous phase data from the interferogram.\n",
    "\n",
    "A SAR interferogram represents the phase difference between two radar acquisitions (i.e., two SLC images). The phase difference is usually wrapped within a range of 0 to 2π, because the phase is inherently cyclical. When the true phase difference exceeds 2π, it gets \"wrapped\" into this range, creating a discontinuous phase signal. Phase unwrapping refers to the process of reconstructing the continuous phase field from the wrapped phase data.\n",
    "\n",
    "Unwrapping an interferogram is essential for extracting correct information contained in the phase such as surface topography and earth surface deformations.\n",
    "\n",
    "There are many approaches that tried to solve the unwrapping problem, tackling challenging scenarios involving noise or large phase discontinuities. Here we present the Network-flow Algorithm for phase unwrapping (C. W. Chen and H. A. Zebker, 2000), which is implemented in the `snaphu` package.\n",
    "\n",
    "## Loading Data\n",
    "The data is stored on the Jupyterhub server, so we need to load it using their respective paths.\n",
    "In this notebook we will use the resulting wrapped interferogram from notebook \"Interferograms\", but we need to process it in the radar geometry in order to unwrap it (while in notebook \"Interferograms\" we end the whole process by performing the geocoding, just for better visualization purposes).\n"
   ]
  },
  {
   "cell_type": "code",
   "execution_count": null,
   "id": "1",
   "metadata": {},
   "outputs": [],
   "source": [
    "import cmcrameri as cmc  # noqa: F401\n",
    "import intake\n",
    "import matplotlib.patches as patches\n",
    "import matplotlib.pyplot as plt\n",
    "import numpy as np\n",
    "import seaborn as sns\n",
    "import snaphu\n",
    "import xarray as xr\n",
    "from IPython.display import clear_output"
   ]
  },
  {
   "cell_type": "code",
   "execution_count": null,
   "id": "2",
   "metadata": {},
   "outputs": [],
   "source": [
    "uri = \"https://git.geo.tuwien.ac.at/public_projects/microwave-remote-sensing/-/raw/main/microwave-remote-sensing.yml\"\n",
    "cat = intake.open_catalog(uri)\n",
    "ds = cat.complex.read().compute()\n",
    "ds[\"cmplx\"] = ds[\"real\"] + ds[\"imag\"] * 1j"
   ]
  },
  {
   "cell_type": "code",
   "execution_count": null,
   "id": "3",
   "metadata": {},
   "outputs": [],
   "source": [
    "# Set cyclic and linear colormaps\n",
    "cmap_cyc = sns.color_palette(\"hls\", as_cmap=True)  # \"cmc.romaO\"\n",
    "cmap_lin = \"cmc.roma_r\"\n",
    "cmap_disp = \"cmc.vik\"\n",
    "\n",
    "# Create a mask for the areas which have no data\n",
    "mask = ds.phase.where(ds.phase == 0, True, False).astype(bool)"
   ]
  },
  {
   "cell_type": "markdown",
   "id": "4",
   "metadata": {},
   "source": [
    "Let's start by displaying the interferogram that needs to be unwrapped. Recall that due to the Slant Range geometry and the satellite acquisition pass (ascending, in our case), the image appears north/south flipped (with respect to the geocoded image)!\n"
   ]
  },
  {
   "cell_type": "code",
   "execution_count": null,
   "id": "5",
   "metadata": {},
   "outputs": [],
   "source": [
    "# Plot Phase Interferogram Image\n",
    "fig, axs = plt.subplots(figsize=(6, 6))\n",
    "\n",
    "(\n",
    "    ds.phase.where(mask)\n",
    "    .plot.imshow(cmap=cmap_cyc, zorder=1)\n",
    "    .axes.set_title(\"Phase Interferogram Image (Wrapped)\")\n",
    ")\n",
    "plt.show()"
   ]
  },
  {
   "cell_type": "markdown",
   "id": "6",
   "metadata": {},
   "source": [
    "## Phase Unwrapping\n",
    "\n",
    "As we will be doing the unwrapping multiple times in this notebook let's create a function that does the unwrapping for us on `xarray DataArray` objects.\n",
    "The actual core function where the unwrapping is happening is `snaphu.unwrap_phase` from the `snaphu` package. This function needs a 2D numpy array as input, where each pixel value is a complex number.\n",
    "Therefore we have to convert the `xarray DataArray` to a 2D numpy array with complex values. We do that by combining the phase and intensity bands to a complex array.\n",
    "The actual unwrapping is essentially an addition of the phase values, such that the values are continuous and not between $-\\pi$ and $\\pi$.\n",
    "\n",
    "![](https://forum.step.esa.int/uploads/default/original/3X/5/d/5d9d18e2a3121a4bb80cb93a8f62aed742e35fc2.png)\n",
    "\n",
    "*Figure 1: Illustration of how the unwrapping of the phase works. (Source: ESA)*.\n"
   ]
  },
  {
   "cell_type": "code",
   "execution_count": null,
   "id": "7",
   "metadata": {},
   "outputs": [],
   "source": [
    "def unwrap_array(\n",
    "    data: xr.DataArray,\n",
    "    complex_var: str = \"cmplx\",\n",
    "    ouput_var: str = \"unwrapped\",\n",
    "    mask: xr.DataArray = True,\n",
    "    coherence: xr.DataArray = None,\n",
    "    mask_nodata_value: int = 0,\n",
    "    coh_low_threshold: float = None,\n",
    "    coh_high_threshold: float = None,\n",
    "    nlooks=1.0,\n",
    "    cost=\"smooth\",\n",
    "    init=\"mcf\",\n",
    "    **kwargs,\n",
    ") -> xr.DataArray:\n",
    "    \"\"\"\n",
    "    Unwraps the phase data using the snaphu algorithm.\n",
    "\n",
    "    Parameters\n",
    "    ----------\n",
    "\n",
    "    data: xarray DataArray with complex numbers\n",
    "    complex_var: Name of the variable with the complex numbers\n",
    "    ouput_var: Name of the variable with the unwrapped phase\n",
    "    mask: xarray DataArray with mask values\n",
    "    coherence: xarray DataArray with coherence values (optional)\n",
    "    mask_nodata_value: Value of the no data pixels in the mask\n",
    "    coh_low_threshold: Lower threshold for the coherence values\n",
    "    coh_high_threshold: Higher threshold for the coherence values\n",
    "\n",
    "    Returns\n",
    "    ----------\n",
    "    xarray DataArray with the unwrapped phase\n",
    "    \"\"\"\n",
    "    # Get the complex data\n",
    "    data_arr = data[complex_var]\n",
    "\n",
    "    # Create a mask for areas with no data\n",
    "    if mask is True:\n",
    "        mask = (data_arr.real != mask_nodata_value).astype(bool)\n",
    "\n",
    "    # Apply coherence thresholds if provided\n",
    "    if coherence is not None:\n",
    "        if coh_low_threshold is not None:\n",
    "            coh_mask = (coherence >= coh_low_threshold).astype(bool)\n",
    "            mask = mask & coh_mask\n",
    "        if coh_high_threshold is not None:\n",
    "            coh_mask = (coherence <= coh_high_threshold).astype(bool)\n",
    "            mask = mask & coh_mask\n",
    "\n",
    "    # Apply the mask to the data\n",
    "    data_arr = data_arr.where(mask)\n",
    "\n",
    "    if coherence is None:\n",
    "        coherence = np.ones_like(data_arr.real)\n",
    "\n",
    "    # Unwrap the phase (already in complex form)\n",
    "    unw, _ = snaphu.unwrap(\n",
    "        data_arr,\n",
    "        coherence,\n",
    "        nlooks=nlooks,\n",
    "        cost=cost,\n",
    "        init=init,\n",
    "        mask=mask,\n",
    "        **kwargs,\n",
    "    )\n",
    "\n",
    "    # Clear the output to avoid printing the snaphu output\n",
    "    clear_output()\n",
    "\n",
    "    # Build xarray DataArray with the unwrapped phase\n",
    "    # unw_da = xr.DataArray(unw, coords=data.coords, dims=data.dims)\n",
    "    # data = data.to_dataset()\n",
    "    data[ouput_var] = ((\"y\", \"x\"), unw)\n",
    "\n",
    "    # Mask the unwrapped phase\n",
    "    # unw_da = unw_da.where(mask)\n",
    "    data[ouput_var] = data[ouput_var].where(mask)\n",
    "    return data"
   ]
  },
  {
   "cell_type": "markdown",
   "id": "8",
   "metadata": {},
   "source": [
    "### Unwrapping on a Subset\n",
    "\n",
    "As the original image is too large to unwrap in a reasonable time, we will unwrap a subset of the image. In this case, we will unwrap an area of 500x500 pixels.\n"
   ]
  },
  {
   "cell_type": "code",
   "execution_count": null,
   "id": "9",
   "metadata": {},
   "outputs": [],
   "source": [
    "# Select a subset of the data\n",
    "dx, dy = 500, 500\n",
    "x0, y0 = 2800, 1700\n",
    "\n",
    "\n",
    "def subsetting(ds, x0: int = 0, y0: int = 0, dx: int = 500, dy: int = 500):\n",
    "    return ds.isel(x=slice(x0, x0 + dx), y=slice(y0, y0 + dy))\n",
    "\n",
    "\n",
    "# Subsetting the data arrays\n",
    "subset = subsetting(ds.where(mask), x0, y0, dx, dy)\n",
    "\n",
    "# Unwrap the subset\n",
    "subset = unwrap_array(subset, complex_var=\"cmplx\", ouput_var=\"unwrapped\")"
   ]
  },
  {
   "cell_type": "markdown",
   "id": "10",
   "metadata": {},
   "source": [
    "Now let's compare the wrapped and unwrapped phase images.\n"
   ]
  },
  {
   "cell_type": "code",
   "execution_count": null,
   "id": "11",
   "metadata": {},
   "outputs": [],
   "source": [
    "fig, axs = plt.subplots(1, 3, figsize=(14, 4))\n",
    "\n",
    "# Wrapped Phase\n",
    "\n",
    "(\n",
    "    subset.phase.plot.imshow(cmap=cmap_cyc, ax=axs[0]).axes.set_title(\n",
    "        \"Wrapped Phase of the Subset\"\n",
    "    )\n",
    ")\n",
    "\n",
    "# Unwrapped Phase\n",
    "(\n",
    "    subset.unwrapped.plot.imshow(\n",
    "        cmap=cmap_cyc, ax=axs[1], vmin=-80, vmax=80\n",
    "    ).axes.set_title(\"Unwrapped Phase of the Subset\")\n",
    ")\n",
    "\n",
    "# Subset inside the complete image\n",
    "(\n",
    "    ds.phase.where(mask)\n",
    "    .plot.imshow(cmap=cmap_cyc, zorder=1, ax=axs[2])\n",
    "    .axes.set_title(\"Complete Wrapped Phase Image\")\n",
    ")\n",
    "\n",
    "x_start = ds.phase.coords[\"x\"][x0].item()\n",
    "y_start = ds.phase.coords[\"y\"][y0].item()\n",
    "x_end = ds.phase.coords[\"x\"][x0 + dx].item()\n",
    "y_end = ds.phase.coords[\"y\"][y0 + dy].item()\n",
    "\n",
    "rect = patches.Rectangle(\n",
    "    (x_start, y_start),\n",
    "    x_end - x_start,\n",
    "    y_end - y_start,\n",
    "    linewidth=1,\n",
    "    edgecolor=\"r\",\n",
    "    facecolor=\"red\",\n",
    "    alpha=0.5,\n",
    "    label=\"Subset\",\n",
    ")\n",
    "\n",
    "# Add the rectangle to the plot\n",
    "axs[2].add_patch(rect)\n",
    "axs[2].legend()\n",
    "plt.tight_layout()"
   ]
  },
  {
   "cell_type": "markdown",
   "id": "12",
   "metadata": {},
   "source": [
    "### Unwrapping with coherence mask\n",
    "Additionally, can we try to calculate the unwrapped image, where we are excluding pixels, where the coherence values are lower than a certain threshold. This is done by masking the coherence image with the threshold value and then unwrapping the phase image with the masked coherence image.\n"
   ]
  },
  {
   "cell_type": "code",
   "execution_count": null,
   "id": "13",
   "metadata": {},
   "outputs": [],
   "source": [
    "threshold1 = 0.3\n",
    "subset = unwrap_array(\n",
    "    subset,\n",
    "    coherence=subset.coh,\n",
    "    coh_low_threshold=threshold1,\n",
    "    complex_var=\"cmplx\",\n",
    "    ouput_var=\"unwrapped_coh\",\n",
    ")"
   ]
  },
  {
   "cell_type": "markdown",
   "id": "14",
   "metadata": {},
   "source": [
    "Let's compare the unwrapped image with and without the coherence mask.\n"
   ]
  },
  {
   "cell_type": "code",
   "execution_count": null,
   "id": "15",
   "metadata": {},
   "outputs": [],
   "source": [
    "fig, axs = plt.subplots(1, 2, figsize=(13, 5))\n",
    "(\n",
    "    subset.unwrapped_coh.plot.imshow(\n",
    "        cmap=cmap_cyc, ax=axs[0], vmin=-80, vmax=80\n",
    "    ).axes.set_title(f\"Unwrapped Phase with Coherence Threshold {threshold1}\")\n",
    ")\n",
    "\n",
    "(\n",
    "    subset.unwrapped.plot.imshow(\n",
    "        cmap=cmap_cyc, ax=axs[1], vmin=-80, vmax=80\n",
    "    ).axes.set_title(\"Unwrapped Phase without Coherence Threshold\")\n",
    ")\n",
    "\n",
    "plt.show()"
   ]
  },
  {
   "cell_type": "markdown",
   "id": "16",
   "metadata": {},
   "source": [
    "Let's see if another threshold value for the coherence mask gives better results.\n"
   ]
  },
  {
   "cell_type": "code",
   "execution_count": null,
   "id": "17",
   "metadata": {},
   "outputs": [],
   "source": [
    "threshold2 = 0.5\n",
    "subset = unwrap_array(\n",
    "    subset,\n",
    "    coherence=subset.coh,\n",
    "    coh_low_threshold=threshold2,\n",
    "    complex_var=\"cmplx\",\n",
    "    ouput_var=\"unwrapped_coh2\",\n",
    ")\n",
    "\n",
    "fig, axs = plt.subplots(1, 2, figsize=(13, 5))\n",
    "(\n",
    "    subset.unwrapped_coh2.plot.imshow(\n",
    "        cmap=cmap_cyc, ax=axs[0], vmin=-80, vmax=80\n",
    "    ).axes.set_title(\"Coherence Threshold 0.5\")\n",
    ")\n",
    "\n",
    "(\n",
    "    subset.unwrapped_coh.plot.imshow(\n",
    "        cmap=cmap_cyc, ax=axs[1], vmin=-80, vmax=80\n",
    "    ).axes.set_title(\"Coherence Threshold 0.3\")\n",
    ")\n",
    "plt.show()"
   ]
  },
  {
   "cell_type": "markdown",
   "id": "18",
   "metadata": {},
   "source": [
    "A higher coherence threshold means that only pixels with a coherence value greater than 0.5 will be used for phase unwrapping. This would result in an unwrapping process that is likely more stable, with reduced noise (invalid phase information in the proximity of the earthquake faults is discarded). However, an excessive coherence threshold might have significant gaps or missing information, especially in areas where motion or surface changes have occurred.\n",
    "The choice of a coherence threshold depends on the balance you want to strike between the accuracy and coverage of the output unwrapped image.\n",
    "\n",
    "Keep in mind that in case of large displacements, such as the Ridgecrest earthquake, phase unwrapping can be problematic and lead to poor results: when the displacement is large, the phase difference becomes wrapped multiple times, leading to phase aliasing. In this case, the phase values become ambiguous, we cannot distinguish between multiple phase wraps, thus leading to incorrect results.\n",
    "\n",
    "## Applying an Equation for the Displacement Map\n",
    "\n",
    "From the unwrapped phase image (we will use the phase masked with a coherence threshold of 0.3) we can calculate the displacement map using the following equation:\n",
    "\n",
    "$\n",
    "d = - \\frac{\\lambda}{4 \\cdot \\pi} \\cdot \\Delta \\phi_d\n",
    "$\n",
    "\n",
    "where:\n",
    "- $\\lambda = 0.056$ for Sentinel-1\n",
    "- $\\Delta \\phi_d$ is the unwrapped image\n",
    "\n",
    "This operation can be very useful for monitoring ground deformation.\n"
   ]
  },
  {
   "cell_type": "code",
   "execution_count": null,
   "id": "19",
   "metadata": {},
   "outputs": [],
   "source": [
    "def displacement(unw, lambda_val: float = 0.056) -> xr.DataArray:\n",
    "    \"\"\"\n",
    "    Calculates the displacement from the unwrapped phase\n",
    "\n",
    "    Parameters\n",
    "    ----------\n",
    "\n",
    "    unw: xarray DataArray with the unwrapped phase\n",
    "    unw: xr.DataArray\n",
    "    lambda_val: Wavelength of the radar signal\n",
    "    lambda_val: float\n",
    "\n",
    "    Returns\n",
    "    -------\n",
    "    xarray DataArray with the displacement\n",
    "    \"\"\"\n",
    "    disp = unw * -lambda_val / (4 * np.pi)\n",
    "    return disp\n",
    "\n",
    "\n",
    "# Calculate the displacement\n",
    "disp_subset = displacement(subset.unwrapped_coh)"
   ]
  },
  {
   "cell_type": "code",
   "execution_count": null,
   "id": "20",
   "metadata": {},
   "outputs": [],
   "source": [
    "# Plot the displacement map\n",
    "(\n",
    "    disp_subset.plot.imshow(\n",
    "        cmap=cmap_disp, cbar_kwargs={\"label\": \"Meters [m]\"}\n",
    "    ).axes.set_title(\"Displacement Map of the Subset\")\n",
    ")\n",
    "plt.show()"
   ]
  },
  {
   "cell_type": "markdown",
   "id": "21",
   "metadata": {},
   "source": [
    "## Coarsen Approach\n",
    "\n",
    "As the whole data is too large and the processing time already exceeds 20 minutes when using an image with 4000x4000 pixels, we can coarsen the image so that we can unwrap and compute the displacement for the whole scene.\n"
   ]
  },
  {
   "cell_type": "code",
   "execution_count": null,
   "id": "22",
   "metadata": {},
   "outputs": [],
   "source": [
    "kernel_size = 3\n",
    "lowres = ds.coarsen(x=kernel_size, y=kernel_size, boundary=\"trim\").median()"
   ]
  },
  {
   "cell_type": "code",
   "execution_count": null,
   "id": "23",
   "metadata": {},
   "outputs": [],
   "source": [
    "lowres = unwrap_array(\n",
    "    lowres,\n",
    "    ntiles=(20, 30),\n",
    "    tile_overlap=10,\n",
    "    coherence=lowres.coh,\n",
    "    coh_low_threshold=0.3,\n",
    "    complex_var=\"cmplx\",\n",
    "    ouput_var=\"unwrapped\",\n",
    ")"
   ]
  },
  {
   "cell_type": "markdown",
   "id": "24",
   "metadata": {},
   "source": [
    "We can now plot the unwrapped image of the low resolution image.\n"
   ]
  },
  {
   "cell_type": "code",
   "execution_count": null,
   "id": "25",
   "metadata": {},
   "outputs": [],
   "source": [
    "# Plot the unwrapped phase\n",
    "(\n",
    "    lowres.unwrapped.plot.imshow(cmap=cmap_cyc).axes.set_title(\n",
    "        \"Unwrapped Phase entire scene (coarsened)\"\n",
    "    )\n",
    ")\n",
    "plt.show()"
   ]
  },
  {
   "cell_type": "markdown",
   "id": "26",
   "metadata": {},
   "source": [
    "We can also now calculate the displacement map and compare them.\n"
   ]
  },
  {
   "cell_type": "code",
   "execution_count": null,
   "id": "27",
   "metadata": {},
   "outputs": [],
   "source": [
    "lowres_disp = displacement(lowres.unwrapped)\n",
    "\n",
    "# Plot the displacement map\n",
    "(\n",
    "    lowres_disp.plot.imshow(\n",
    "        cmap=cmap_disp, cbar_kwargs={\"label\": \"Meters [m]\"}\n",
    "    ).axes.set_title(\"Displacement Map entire scene (coarse resolution)\")\n",
    ")\n",
    "plt.show()"
   ]
  },
  {
   "cell_type": "markdown",
   "id": "28",
   "metadata": {},
   "source": [
    "Plot a summary of the previous plots:\n"
   ]
  },
  {
   "cell_type": "code",
   "execution_count": null,
   "id": "29",
   "metadata": {},
   "outputs": [],
   "source": [
    "# Plot summary of previous plots\n",
    "fig, axs = plt.subplots(2, 2, figsize=(12, 10))\n",
    "ax = axs.ravel()\n",
    "\n",
    "(\n",
    "    subset.unwrapped_coh.plot.imshow(\n",
    "        cmap=cmap_cyc, ax=ax[0], vmin=-80, vmax=80\n",
    "    ).axes.set_title(\"Unwrapped Phase of the subset with Coherence Threshold 0.3\")\n",
    ")\n",
    "\n",
    "(\n",
    "    disp_subset.plot.imshow(\n",
    "        cmap=cmap_disp, ax=ax[1], cbar_kwargs={\"label\": \"Meters [m]\"}\n",
    "    ).axes.set_title(\"Displacement Map of the Subset\")\n",
    ")\n",
    "\n",
    "(\n",
    "    lowres.unwrapped.plot.imshow(cmap=cmap_cyc, ax=ax[2]).axes.set_title(\n",
    "        \"Unwrapped Phase of the entire scene with Coherence Threshold 0.3 (coarsened)\"\n",
    "    )\n",
    ")\n",
    "\n",
    "(\n",
    "    lowres_disp.plot.imshow(\n",
    "        cmap=cmap_disp, ax=ax[3], cbar_kwargs={\"label\": \"Meters [m]\"}\n",
    "    ).axes.set_title(\"Displacement Map entire scene (coarse resolution)\")\n",
    ")\n",
    "\n",
    "plt.tight_layout()"
   ]
  },
  {
   "cell_type": "markdown",
   "id": "30",
   "metadata": {},
   "source": [
    "In the following animation, we can capture the 3D displacement caused by the Ridgecrest quake by observing the after and before elevation model.\n",
    "\n",
    "![](../../images/ridgecrest.gif)\n",
    "*Credits: NASA*"
   ]
  }
 ],
 "metadata": {
  "kernelspec": {
   "display_name": "microwave-remote-sensing",
   "language": "python",
   "name": "microwave-remote-sensing"
  },
  "language_info": {
   "codemirror_mode": {
    "name": "ipython",
    "version": 3
   },
   "file_extension": ".py",
   "mimetype": "text/x-python",
   "name": "python",
   "nbconvert_exporter": "python",
   "pygments_lexer": "ipython3",
   "version": "3.11.13"
  }
 },
 "nbformat": 4,
 "nbformat_minor": 5
}
